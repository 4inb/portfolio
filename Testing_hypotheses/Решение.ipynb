{
 "cells": [
  {
   "cell_type": "markdown",
   "id": "342a3f00",
   "metadata": {},
   "source": [
    "# Условия домашки\n",
    "\n",
    "Вы работаете аналитиком в ветеринарной клинике SkyAnimal. Вас попросили провести  \n",
    "сегментацию клиентских чеков по типу животного и его породе.\n",
    "\n",
    "## Задача 1\n",
    "\n",
    "Постройте группировку, по которой видно, какое количество заказов было для каждой  \n",
    "пары животное - порода и какой средний чек был по этой паре\n",
    "\n",
    "## Задача 2\n",
    "\n",
    "Ответьте на следующие вопросы, используя функцию ttest_ind:  \n",
    "- Какой средний чек выше - по собакам или по кошкам?\n",
    "- Какой средний чек выше - по экзотическим животным или по собакам?\n",
    "- Какой средний чек выше - по экзотическим животным или по кошкам?\n",
    "- Существуют ли сегменты (разбиение по породе), в рамках которых средний чек по  \n",
    "кошкам больше, чем по собакам?\n",
    "- Какой средний чек выше - по экзотическим животным или по домашним породистым кошкам?"
   ]
  },
  {
   "cell_type": "markdown",
   "id": "811b94cf",
   "metadata": {},
   "source": [
    "---\n",
    "\n",
    "#### ***Установки и импорты файлов и библиотек***"
   ]
  },
  {
   "cell_type": "code",
   "execution_count": 1,
   "id": "9b956b48",
   "metadata": {},
   "outputs": [],
   "source": [
    "import numpy as np\n",
    "import pandas as pd\n",
    "from scipy.stats import ttest_ind\n",
    "from matplotlib import pyplot as plt"
   ]
  },
  {
   "cell_type": "code",
   "execution_count": 2,
   "id": "9ce021d6",
   "metadata": {},
   "outputs": [
    {
     "name": "stdout",
     "output_type": "stream",
     "text": [
      "<class 'pandas.core.frame.DataFrame'>\n",
      "RangeIndex: 4846 entries, 0 to 4845\n",
      "Data columns (total 4 columns):\n",
      " #   Column    Non-Null Count  Dtype \n",
      "---  ------    --------------  ----- \n",
      " 0   id_order  4846 non-null   int64 \n",
      " 1   animal    4846 non-null   object\n",
      " 2   species   4846 non-null   object\n",
      " 3   check     4846 non-null   int64 \n",
      "dtypes: int64(2), object(2)\n",
      "memory usage: 151.6+ KB\n"
     ]
    }
   ],
   "source": [
    "file_name = 'Домашнее задание (исходник).xlsx'\n",
    "df = pd.read_excel(file_name)\n",
    "df.info()"
   ]
  },
  {
   "cell_type": "code",
   "execution_count": 3,
   "id": "6136d7bc",
   "metadata": {},
   "outputs": [
    {
     "data": {
      "text/html": [
       "<div>\n",
       "<style scoped>\n",
       "    .dataframe tbody tr th:only-of-type {\n",
       "        vertical-align: middle;\n",
       "    }\n",
       "\n",
       "    .dataframe tbody tr th {\n",
       "        vertical-align: top;\n",
       "    }\n",
       "\n",
       "    .dataframe thead th {\n",
       "        text-align: right;\n",
       "    }\n",
       "</style>\n",
       "<table border=\"1\" class=\"dataframe\">\n",
       "  <thead>\n",
       "    <tr style=\"text-align: right;\">\n",
       "      <th></th>\n",
       "      <th>id_order</th>\n",
       "      <th>animal</th>\n",
       "      <th>species</th>\n",
       "      <th>check</th>\n",
       "    </tr>\n",
       "  </thead>\n",
       "  <tbody>\n",
       "    <tr>\n",
       "      <th>3974</th>\n",
       "      <td>3647289</td>\n",
       "      <td>Кошка</td>\n",
       "      <td>Домашняя обыкновенная</td>\n",
       "      <td>4181</td>\n",
       "    </tr>\n",
       "    <tr>\n",
       "      <th>4785</th>\n",
       "      <td>3647607</td>\n",
       "      <td>Кошка</td>\n",
       "      <td>Уличная</td>\n",
       "      <td>2927</td>\n",
       "    </tr>\n",
       "    <tr>\n",
       "      <th>1404</th>\n",
       "      <td>3646281</td>\n",
       "      <td>Кошка</td>\n",
       "      <td>Домашняя породистая</td>\n",
       "      <td>17530</td>\n",
       "    </tr>\n",
       "    <tr>\n",
       "      <th>2627</th>\n",
       "      <td>3646773</td>\n",
       "      <td>Кошка</td>\n",
       "      <td>Домашняя породистая</td>\n",
       "      <td>42513</td>\n",
       "    </tr>\n",
       "    <tr>\n",
       "      <th>3640</th>\n",
       "      <td>3647157</td>\n",
       "      <td>Кошка</td>\n",
       "      <td>Домашняя обыкновенная</td>\n",
       "      <td>18026</td>\n",
       "    </tr>\n",
       "    <tr>\n",
       "      <th>658</th>\n",
       "      <td>3646003</td>\n",
       "      <td>Кошка</td>\n",
       "      <td>Уличная</td>\n",
       "      <td>2980</td>\n",
       "    </tr>\n",
       "    <tr>\n",
       "      <th>3604</th>\n",
       "      <td>3647146</td>\n",
       "      <td>Кошка</td>\n",
       "      <td>Домашняя обыкновенная</td>\n",
       "      <td>12826</td>\n",
       "    </tr>\n",
       "    <tr>\n",
       "      <th>3334</th>\n",
       "      <td>3647030</td>\n",
       "      <td>Экзотическое животное</td>\n",
       "      <td>Экзотическое животное</td>\n",
       "      <td>114016</td>\n",
       "    </tr>\n",
       "    <tr>\n",
       "      <th>4457</th>\n",
       "      <td>3647477</td>\n",
       "      <td>Собака</td>\n",
       "      <td>Домашняя породистая</td>\n",
       "      <td>10553</td>\n",
       "    </tr>\n",
       "    <tr>\n",
       "      <th>410</th>\n",
       "      <td>3645903</td>\n",
       "      <td>Собака</td>\n",
       "      <td>Домашняя обыкновенная</td>\n",
       "      <td>49013</td>\n",
       "    </tr>\n",
       "  </tbody>\n",
       "</table>\n",
       "</div>"
      ],
      "text/plain": [
       "      id_order                 animal                species   check\n",
       "3974   3647289                  Кошка  Домашняя обыкновенная    4181\n",
       "4785   3647607                  Кошка                Уличная    2927\n",
       "1404   3646281                  Кошка    Домашняя породистая   17530\n",
       "2627   3646773                  Кошка    Домашняя породистая   42513\n",
       "3640   3647157                  Кошка  Домашняя обыкновенная   18026\n",
       "658    3646003                  Кошка                Уличная    2980\n",
       "3604   3647146                  Кошка  Домашняя обыкновенная   12826\n",
       "3334   3647030  Экзотическое животное  Экзотическое животное  114016\n",
       "4457   3647477                 Собака    Домашняя породистая   10553\n",
       "410    3645903                 Собака  Домашняя обыкновенная   49013"
      ]
     },
     "execution_count": 3,
     "metadata": {},
     "output_type": "execute_result"
    }
   ],
   "source": [
    "df.sample(10)"
   ]
  },
  {
   "cell_type": "markdown",
   "id": "e0269799",
   "metadata": {},
   "source": [
    "#### ***Задача 1. Постройте группировку, по которой видно, какое количество заказов было для каждой пары животное - порода и какой средний чек был по этой паре***"
   ]
  },
  {
   "cell_type": "code",
   "execution_count": 4,
   "id": "29fec680",
   "metadata": {},
   "outputs": [
    {
     "name": "stdout",
     "output_type": "stream",
     "text": [
      "['Кошка' 'Собака' 'Экзотическое животное']\n"
     ]
    }
   ],
   "source": [
    "print(df['animal'].unique())"
   ]
  },
  {
   "cell_type": "code",
   "execution_count": 5,
   "id": "219dcd0a",
   "metadata": {},
   "outputs": [
    {
     "name": "stdout",
     "output_type": "stream",
     "text": [
      "['Уличная' 'Домашняя обыкновенная' 'Домашняя породистая'\n",
      " 'Экзотическое животное']\n"
     ]
    }
   ],
   "source": [
    "print(df['species'].unique())"
   ]
  },
  {
   "cell_type": "code",
   "execution_count": 6,
   "id": "7f98477b",
   "metadata": {},
   "outputs": [
    {
     "data": {
      "text/html": [
       "<div>\n",
       "<style scoped>\n",
       "    .dataframe tbody tr th:only-of-type {\n",
       "        vertical-align: middle;\n",
       "    }\n",
       "\n",
       "    .dataframe tbody tr th {\n",
       "        vertical-align: top;\n",
       "    }\n",
       "\n",
       "    .dataframe thead th {\n",
       "        text-align: right;\n",
       "    }\n",
       "</style>\n",
       "<table border=\"1\" class=\"dataframe\">\n",
       "  <thead>\n",
       "    <tr style=\"text-align: right;\">\n",
       "      <th></th>\n",
       "      <th>animal</th>\n",
       "      <th>species</th>\n",
       "      <th>avg_check</th>\n",
       "      <th>cnt_orders</th>\n",
       "    </tr>\n",
       "  </thead>\n",
       "  <tbody>\n",
       "    <tr>\n",
       "      <th>0</th>\n",
       "      <td>Кошка</td>\n",
       "      <td>Домашняя обыкновенная</td>\n",
       "      <td>26252.648987</td>\n",
       "      <td>1037</td>\n",
       "    </tr>\n",
       "    <tr>\n",
       "      <th>1</th>\n",
       "      <td>Кошка</td>\n",
       "      <td>Домашняя породистая</td>\n",
       "      <td>27404.896000</td>\n",
       "      <td>375</td>\n",
       "    </tr>\n",
       "    <tr>\n",
       "      <th>2</th>\n",
       "      <td>Кошка</td>\n",
       "      <td>Уличная</td>\n",
       "      <td>24168.826087</td>\n",
       "      <td>598</td>\n",
       "    </tr>\n",
       "    <tr>\n",
       "      <th>3</th>\n",
       "      <td>Собака</td>\n",
       "      <td>Домашняя обыкновенная</td>\n",
       "      <td>26733.493478</td>\n",
       "      <td>920</td>\n",
       "    </tr>\n",
       "    <tr>\n",
       "      <th>4</th>\n",
       "      <td>Собака</td>\n",
       "      <td>Домашняя породистая</td>\n",
       "      <td>20443.963855</td>\n",
       "      <td>249</td>\n",
       "    </tr>\n",
       "    <tr>\n",
       "      <th>5</th>\n",
       "      <td>Собака</td>\n",
       "      <td>Уличная</td>\n",
       "      <td>25679.635659</td>\n",
       "      <td>774</td>\n",
       "    </tr>\n",
       "    <tr>\n",
       "      <th>6</th>\n",
       "      <td>Экзотическое животное</td>\n",
       "      <td>Экзотическое животное</td>\n",
       "      <td>28748.667413</td>\n",
       "      <td>893</td>\n",
       "    </tr>\n",
       "  </tbody>\n",
       "</table>\n",
       "</div>"
      ],
      "text/plain": [
       "                  animal                species     avg_check  cnt_orders\n",
       "0                  Кошка  Домашняя обыкновенная  26252.648987        1037\n",
       "1                  Кошка    Домашняя породистая  27404.896000         375\n",
       "2                  Кошка                Уличная  24168.826087         598\n",
       "3                 Собака  Домашняя обыкновенная  26733.493478         920\n",
       "4                 Собака    Домашняя породистая  20443.963855         249\n",
       "5                 Собака                Уличная  25679.635659         774\n",
       "6  Экзотическое животное  Экзотическое животное  28748.667413         893"
      ]
     },
     "execution_count": 6,
     "metadata": {},
     "output_type": "execute_result"
    }
   ],
   "source": [
    "df_grb = df.groupby(['animal', 'species']).agg(avg_check = ('check', 'mean'), cnt_orders = ('id_order', 'count')).reset_index()\n",
    "df_grb"
   ]
  },
  {
   "cell_type": "markdown",
   "id": "88af9812",
   "metadata": {},
   "source": [
    "---\n",
    "\n",
    "#### ***Задача 2 Ответьте на вопросы, используя функцию ttest_ind***\n",
    "\n",
    "- Какой средний чек выше - по собакам или по кошкам?\n",
    "- Какой средний чек выше - по экзотическим животным или по собакам?\n",
    "- Какой средний чек выше - по экзотическим животным или по кошкам?\n",
    "- Существуют ли сегменты (разбиение по породе), в рамках которых средний чек по  кошкам больше, чем по собакам?\n",
    "- Какой средний чек выше - по экзотическим животным или по домашним породистым кошкам?"
   ]
  },
  {
   "cell_type": "code",
   "execution_count": 7,
   "id": "dc05ac54",
   "metadata": {},
   "outputs": [],
   "source": [
    "def test_interpreter(statistic, pvalue, alpha=0.05):\n",
    "    '''Функция комментирует результат теста  ttest_ind'''\n",
    "    border_s = 1.96\n",
    "    \n",
    "    if (- border_s < statistic < border_s) and (pvalue >= alpha):\n",
    "        print(\"Гипотеза Н0 подтверждается: средние равны\")\n",
    "        return True\n",
    "    else:\n",
    "        print(\"Гипотеза Н0 не подтверждается: средние не равны\")\n",
    "        return False\n",
    "        \n",
    "    \n",
    "        \n",
    "def inequality_means(df_1, df_2, name_parameter_df1=None, name_parameter_df2=None):\n",
    "    '''Функция сравнивает средние величины'''\n",
    "    df1_mean, df2_mean = df_1.mean()[0], df_2.mean()[0]\n",
    "    if df1_mean > df2_mean:\n",
    "        print(f'df_1{[name_parameter_df1]} больше чем df_2{[name_parameter_df2]} на {round(df1_mean - df2_mean, 2)}')\n",
    "    if df1_mean < df2_mean:\n",
    "        print(f'df_2[{name_parameter_df2}] больше df_1[{name_parameter_df1}] на {round(df2_mean - df1_mean, 2)}')\n"
   ]
  },
  {
   "cell_type": "markdown",
   "id": "22747749",
   "metadata": {},
   "source": [
    "##### ***- Какой средний чек выше - по собакам или по кошкам?***"
   ]
  },
  {
   "cell_type": "code",
   "execution_count": 8,
   "id": "cf2c0ebe",
   "metadata": {},
   "outputs": [
    {
     "name": "stdout",
     "output_type": "stream",
     "text": [
      "Гипотеза Н0 подтверждается: средние равны\n",
      "s = array([-0.33249373])\n",
      "p = array([0.73953411])\n"
     ]
    }
   ],
   "source": [
    "df1 = df.loc[df['animal'] == 'Собака', ['check']]\n",
    "df2 = df.loc[df['animal'] == 'Кошка', ['check']]\n",
    "s, p = ttest_ind(df1, df2)\n",
    "\n",
    "if test_interpreter(s, p):\n",
    "    print(f'{s = }')\n",
    "    print(f'{p = }')\n",
    "else:\n",
    "    inequality_means(df1, df2, 'Собака', 'Кошка')"
   ]
  },
  {
   "cell_type": "markdown",
   "id": "50cf1253",
   "metadata": {},
   "source": [
    "##### ***- Какой средний чек выше - по экзотическим животным или по собакам?***"
   ]
  },
  {
   "cell_type": "code",
   "execution_count": 9,
   "id": "22007e6c",
   "metadata": {},
   "outputs": [
    {
     "name": "stdout",
     "output_type": "stream",
     "text": [
      "Гипотеза Н0 не подтверждается: средние не равны\n",
      "df_1['Экзотическое животное'] больше чем df_2['Собака'] на 3241.0\n"
     ]
    }
   ],
   "source": [
    "df1 = df.loc[df['animal'] == 'Экзотическое животное', ['check']]\n",
    "df2 = df.loc[df['animal'] == 'Собака', ['check']]\n",
    "s, p = ttest_ind(df1, df2)\n",
    "\n",
    "if test_interpreter(s, p):\n",
    "    print(f'{s = }')\n",
    "    print(f'{p = }')\n",
    "else:\n",
    "    inequality_means(df1, df2, 'Экзотическое животное', 'Собака')"
   ]
  },
  {
   "cell_type": "markdown",
   "id": "bce98bcf",
   "metadata": {},
   "source": [
    "##### ***- Какой средний чек выше - по экзотическим животным или по кошкам?***"
   ]
  },
  {
   "cell_type": "code",
   "execution_count": 10,
   "id": "f212483e",
   "metadata": {},
   "outputs": [
    {
     "name": "stdout",
     "output_type": "stream",
     "text": [
      "Гипотеза Н0 подтверждается: средние равны\n",
      "s = array([1.90015591])\n",
      "p = array([0.05751172])\n"
     ]
    }
   ],
   "source": [
    "df1 = df.loc[df['animal'] == 'Экзотическое животное', ['check']]\n",
    "df2 = df.loc[df['animal'] == 'Кошка', ['check']]\n",
    "s, p = ttest_ind(df1, df2)\n",
    "\n",
    "if test_interpreter(s, p):\n",
    "    print(f'{s = }')\n",
    "    print(f'{p = }')\n",
    "else:\n",
    "    inequality_means(df1, df2, 'Экзотическое животное', 'Кошка')"
   ]
  },
  {
   "cell_type": "markdown",
   "id": "59104058",
   "metadata": {},
   "source": [
    "##### ***- Существуют ли сегменты (разбиение по породе), в рамках которых средний чек по кошкам больше, чем по собакам?***\n"
   ]
  },
  {
   "cell_type": "code",
   "execution_count": 11,
   "id": "ad1984cf",
   "metadata": {
    "scrolled": false
   },
   "outputs": [
    {
     "name": "stdout",
     "output_type": "stream",
     "text": [
      "Уличная\n",
      "Гипотеза Н0 подтверждается: средние равны\n",
      "s = array([0.85813042])\n",
      "p = array([0.39097055])\n",
      "\n",
      "Домашняя обыкновенная\n",
      "Гипотеза Н0 подтверждается: средние равны\n",
      "s = array([0.3322974])\n",
      "p = array([0.73970032])\n",
      "\n",
      "Домашняя породистая\n",
      "Гипотеза Н0 не подтверждается: средние не равны\n",
      "df_2[Кошка] больше df_1[Собака] на 6960.93\n",
      "\n",
      "Экзотическое животное\n",
      "Гипотеза Н0 не подтверждается: средние не равны\n",
      "\n"
     ]
    }
   ],
   "source": [
    "df1 = df.loc[df['animal'] == 'Собака']\n",
    "df2 = df.loc[df['animal'] == 'Кошка']\n",
    "\n",
    "for spcs in df['species'].unique():\n",
    "    df11 = df1.loc[df1['species'] == spcs, ['check']]\n",
    "    df21 = df2.loc[df2['species'] == spcs, ['check']]\n",
    "    s, p = ttest_ind(df11, df21)\n",
    "    \n",
    "    print(spcs)\n",
    "    if test_interpreter(s, p):\n",
    "        print(f'{s = }')\n",
    "        print(f'{p = }')\n",
    "    else:\n",
    "        inequality_means(df11, df21, 'Собака', 'Кошка')\n",
    "    print()"
   ]
  },
  {
   "cell_type": "markdown",
   "id": "5363f36b",
   "metadata": {},
   "source": [
    "##### ***- Какой средний чек выше - по экзотическим животным или по домашним породистым кошкам?***"
   ]
  },
  {
   "cell_type": "code",
   "execution_count": 12,
   "id": "72106acd",
   "metadata": {},
   "outputs": [
    {
     "name": "stdout",
     "output_type": "stream",
     "text": [
      "Гипотеза Н0 подтверждается: средние равны\n",
      "s = array([0.58378436])\n",
      "p = array([0.55946939])\n"
     ]
    }
   ],
   "source": [
    "df1 = df.loc[df['species'] == 'Экзотическое животное', ['check']]\n",
    "df2 = df.loc[(df['animal'] == 'Кошка') & (df['species'] == 'Домашняя породистая'), ['check']]\n",
    "s, p = ttest_ind(df1, df2)\n",
    "\n",
    "if test_interpreter(s, p):\n",
    "    print(f'{s = }')\n",
    "    print(f'{p = }')\n",
    "else:\n",
    "    inequality_means(df1, df2, 'Экзотическое животное', 'Кошка, Домашняя породистая')"
   ]
  },
  {
   "cell_type": "code",
   "execution_count": null,
   "id": "a84affc9",
   "metadata": {},
   "outputs": [],
   "source": []
  }
 ],
 "metadata": {
  "kernelspec": {
   "display_name": "Python 3 (ipykernel)",
   "language": "python",
   "name": "python3"
  },
  "language_info": {
   "codemirror_mode": {
    "name": "ipython",
    "version": 3
   },
   "file_extension": ".py",
   "mimetype": "text/x-python",
   "name": "python",
   "nbconvert_exporter": "python",
   "pygments_lexer": "ipython3",
   "version": "3.11.5"
  }
 },
 "nbformat": 4,
 "nbformat_minor": 5
}
