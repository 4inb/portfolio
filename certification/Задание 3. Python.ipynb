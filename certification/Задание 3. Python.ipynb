{
 "cells": [
  {
   "cell_type": "markdown",
   "id": "13f21f31",
   "metadata": {},
   "source": [
    "# Задание 3\n",
    "\n",
    "Вы работаете продуктовым аналитиком в агрегаторе такси SkyTaxi, и ваша задача — оценить результаты А/В-теста.\n",
    "\n",
    "Тест предполагает введение новой платежной механики, которая должна немного снизить цену на услугу.\n",
    "\n",
    "Тест проводится путем разделения всех просмотров цены на группы А и В.\n",
    "\n",
    "> Просмотр — это событие, когда клиент вводит в приложении точку В и видит отображенную цену заказа. После этого он может или конвертироваться в созданный заказ (если цена его устроит), или нет.\n",
    "\n",
    "Ваша задача — исследовать результат и понять, влияет ли повышение цены на конверсию из просмотра в создание заказа.\n",
    "\n",
    "Для выполнения задания воспользуйтесь Python и оформите результат как файл .ipynb (текстовые выводы оформить там же).\n",
    "\n",
    "Скачайте файл с данными по [ссылке](https://drive.google.com/drive/folders/1tOQ51sbgH7eT8f25OsR1AMTPL5k-nwk8)"
   ]
  },
  {
   "cell_type": "markdown",
   "id": "dd2f392d",
   "metadata": {},
   "source": [
    "### Установка и импорт библиотек"
   ]
  },
  {
   "cell_type": "code",
   "execution_count": 18,
   "id": "e554c755",
   "metadata": {},
   "outputs": [],
   "source": [
    "import pandas as pd\n",
    "import numpy as np\n",
    "from scipy import stats\n",
    "\n",
    "from matplotlib import pyplot as plt"
   ]
  },
  {
   "cell_type": "markdown",
   "id": "3cf5ee04",
   "metadata": {},
   "source": [
    "### Задание 3.1\n",
    "\n",
    "Импортируйте файл с данными в Jupyter Notebook и расшифруйте идентификаторы городов с помощью листа city_dict"
   ]
  },
  {
   "cell_type": "code",
   "execution_count": 2,
   "id": "eea50221",
   "metadata": {},
   "outputs": [],
   "source": [
    "path = 'Data\\\\'\n",
    "file_name = 'Финальная первичная аттестация. Вариант 1. Python.xlsx'\n",
    "\n",
    "dataset = pd.read_excel(path + file_name, sheet_name='Dataset')\n",
    "city_dict = pd.read_excel(path + file_name, sheet_name='city_dict')"
   ]
  },
  {
   "cell_type": "code",
   "execution_count": 3,
   "id": "4217a4bb",
   "metadata": {},
   "outputs": [
    {
     "data": {
      "text/html": [
       "<div>\n",
       "<style scoped>\n",
       "    .dataframe tbody tr th:only-of-type {\n",
       "        vertical-align: middle;\n",
       "    }\n",
       "\n",
       "    .dataframe tbody tr th {\n",
       "        vertical-align: top;\n",
       "    }\n",
       "\n",
       "    .dataframe thead th {\n",
       "        text-align: right;\n",
       "    }\n",
       "</style>\n",
       "<table border=\"1\" class=\"dataframe\">\n",
       "  <thead>\n",
       "    <tr style=\"text-align: right;\">\n",
       "      <th></th>\n",
       "      <th>id_view</th>\n",
       "      <th>time_view</th>\n",
       "      <th>id_group</th>\n",
       "      <th>nflag_order</th>\n",
       "      <th>name_city</th>\n",
       "    </tr>\n",
       "  </thead>\n",
       "  <tbody>\n",
       "    <tr>\n",
       "      <th>13956</th>\n",
       "      <td>10457173353</td>\n",
       "      <td>2023-01-22 19:01:20.942</td>\n",
       "      <td>0</td>\n",
       "      <td>1</td>\n",
       "      <td>Санкт-Петербург</td>\n",
       "    </tr>\n",
       "    <tr>\n",
       "      <th>3385</th>\n",
       "      <td>10457181848</td>\n",
       "      <td>2023-01-08 07:29:54.740</td>\n",
       "      <td>0</td>\n",
       "      <td>1</td>\n",
       "      <td>Москва</td>\n",
       "    </tr>\n",
       "    <tr>\n",
       "      <th>15528</th>\n",
       "      <td>10457163464</td>\n",
       "      <td>2023-01-08 05:15:42.996</td>\n",
       "      <td>0</td>\n",
       "      <td>1</td>\n",
       "      <td>Санкт-Петербург</td>\n",
       "    </tr>\n",
       "    <tr>\n",
       "      <th>6466</th>\n",
       "      <td>10457191289</td>\n",
       "      <td>2023-01-16 15:26:14.530</td>\n",
       "      <td>1</td>\n",
       "      <td>0</td>\n",
       "      <td>Москва</td>\n",
       "    </tr>\n",
       "    <tr>\n",
       "      <th>10474</th>\n",
       "      <td>10457133800</td>\n",
       "      <td>2023-01-31 03:11:19.418</td>\n",
       "      <td>1</td>\n",
       "      <td>1</td>\n",
       "      <td>Москва</td>\n",
       "    </tr>\n",
       "  </tbody>\n",
       "</table>\n",
       "</div>"
      ],
      "text/plain": [
       "           id_view               time_view  id_group  nflag_order  \\\n",
       "13956  10457173353 2023-01-22 19:01:20.942         0            1   \n",
       "3385   10457181848 2023-01-08 07:29:54.740         0            1   \n",
       "15528  10457163464 2023-01-08 05:15:42.996         0            1   \n",
       "6466   10457191289 2023-01-16 15:26:14.530         1            0   \n",
       "10474  10457133800 2023-01-31 03:11:19.418         1            1   \n",
       "\n",
       "             name_city  \n",
       "13956  Санкт-Петербург  \n",
       "3385            Москва  \n",
       "15528  Санкт-Петербург  \n",
       "6466            Москва  \n",
       "10474           Москва  "
      ]
     },
     "execution_count": 3,
     "metadata": {},
     "output_type": "execute_result"
    }
   ],
   "source": [
    "data = pd.merge(dataset, city_dict, on='id_city').drop(columns=['id_city'])\n",
    "data.sample(5)"
   ]
  },
  {
   "cell_type": "markdown",
   "id": "274f98ef",
   "metadata": {},
   "source": [
    "### Задание 3.2\n",
    "\n",
    "Рассчитайте результаты А/В-теста и с помощью статистического критерия сделайте вывод."
   ]
  },
  {
   "cell_type": "code",
   "execution_count": 4,
   "id": "e5911d37",
   "metadata": {},
   "outputs": [],
   "source": [
    "def t_test(test, control, alpha=0.05):\n",
    "    '''Функция печатает выводы тестирования выборок Т-тестом, сравнивает средние выборок и возвращает True если стат.разница'''\n",
    "    \n",
    "    statistic, pvalue = stats.ttest_ind(test, control)\n",
    "    \n",
    "    if pvalue > alpha:\n",
    "        print(f'Выборки не имеют существенной разницы. {pvalue = }')\n",
    "        return False\n",
    "    else:\n",
    "        print(f'Выборки различны. {pvalue = }')\n",
    "        print(f'При чем разница средних выборок составляет:', np.round((test.mean() - control.mean()) * 100, 2), '%')\n",
    "        return True"
   ]
  },
  {
   "cell_type": "code",
   "execution_count": 9,
   "id": "cce4105c",
   "metadata": {},
   "outputs": [
    {
     "name": "stdout",
     "output_type": "stream",
     "text": [
      "Выборки различны. pvalue = 5.1365957325220535e-21\n",
      "При чем разница средних выборок составляет: 6.07 %\n"
     ]
    }
   ],
   "source": [
    "tst = data.loc[data['id_group'] == 1, 'nflag_order']\n",
    "ctr = data.loc[data['id_group'] == 0, 'nflag_order']\n",
    "\n",
    "_ = t_test(tst, ctr)"
   ]
  },
  {
   "cell_type": "markdown",
   "id": "3951b210",
   "metadata": {},
   "source": [
    "### Задание 3.3\n",
    "\n",
    "Запустите цикл, который пробежится по всем городам в датасете. Выявите те города, в которых есть статистически значимая разница между группами А и В. Создайте переменную типа «список», которая будет хранить эти города."
   ]
  },
  {
   "cell_type": "code",
   "execution_count": 14,
   "id": "16b0952a",
   "metadata": {},
   "outputs": [
    {
     "name": "stdout",
     "output_type": "stream",
     "text": [
      "---------- Новосибирск ----------\n",
      "Выборки не имеют существенной разницы. pvalue = 0.13822636677161423\n",
      "\n",
      "---------- Москва ----------\n",
      "Выборки различны. pvalue = 1.368947706664987e-13\n",
      "При чем разница средних выборок составляет: 7.47 %\n",
      "\n",
      "---------- Санкт-Петербург ----------\n",
      "Выборки различны. pvalue = 1.8595141124883944e-07\n",
      "При чем разница средних выборок составляет: 7.08 %\n",
      "\n",
      "---------- Казань ----------\n",
      "Выборки различны. pvalue = 0.0023855694044274188\n",
      "При чем разница средних выборок составляет: 8.22 %\n",
      "\n",
      "---------- Архангельск ----------\n",
      "Выборки не имеют существенной разницы. pvalue = 0.0511754082950276\n",
      "\n",
      "---------- Челябинск ----------\n",
      "Выборки не имеют существенной разницы. pvalue = 0.18541963354338323\n",
      "\n",
      "---------- Сочи ----------\n",
      "Выборки не имеют существенной разницы. pvalue = 0.7646178932512717\n",
      "\n",
      "---------- Хабаровск ----------\n",
      "Выборки не имеют существенной разницы. pvalue = 0.156865633792813\n",
      "\n",
      "---------- Нижний Новгород ----------\n",
      "Выборки не имеют существенной разницы. pvalue = 0.9301037909783129\n",
      "\n",
      "---------- Краснодар ----------\n",
      "Выборки не имеют существенной разницы. pvalue = 0.24850395048260338\n",
      "\n",
      "---------- Воронеж ----------\n",
      "Выборки не имеют существенной разницы. pvalue = 0.8415715510394312\n",
      "\n",
      "cities = ['Москва', 'Санкт-Петербург', 'Казань']\n"
     ]
    }
   ],
   "source": [
    "cities = []\n",
    "\n",
    "for city in data['name_city'].unique():\n",
    "    df = data.loc[data['name_city'] == city]\n",
    "    tst = df.loc[df['id_group'] == 1, 'nflag_order']\n",
    "    ctr = df.loc[df['id_group'] == 0, 'nflag_order']\n",
    "    \n",
    "    print('--' * 5, city, '--' * 5)\n",
    "    res = t_test(tst, ctr); print()\n",
    "    \n",
    "    if res:\n",
    "        cities.append(city)\n",
    "        \n",
    "print(f'{cities = }')"
   ]
  },
  {
   "cell_type": "markdown",
   "id": "c353f3dd",
   "metadata": {},
   "source": [
    "### Задание 3.4\n",
    "\n",
    "Создайте дополнительную колонку со значением 0 или 1 в зависимости от часа заказа. 1 — если это час пик (возьмите, например, 7, 8, 9, 10, 17, 18, 19, 20), а 0 — все остальные часы. Проверьте результат А/В-теста по отдельности на пиковых и непиковых заказах и сделайте выводы."
   ]
  },
  {
   "cell_type": "markdown",
   "id": "15f35d5b",
   "metadata": {},
   "source": [
    "---\n",
    "*Для выполнения данного задания для начала определимся что есть `час-пик`, на примере города Москвы*"
   ]
  },
  {
   "cell_type": "code",
   "execution_count": 25,
   "id": "fa071977",
   "metadata": {},
   "outputs": [],
   "source": [
    "# df = data.loc[:, ['time_view', 'nflag_order']]\n",
    "df = data.loc[data['name_city'] == 'Москва', ['time_view', 'nflag_order']]\n",
    "\n",
    "df['hour'] = df['time_view'].dt.hour\n",
    "df_gb = df.groupby('hour').agg(sum_orders = ('nflag_order', 'sum')).reset_index()\n",
    "# df_gb"
   ]
  },
  {
   "cell_type": "code",
   "execution_count": 26,
   "id": "1fd33cf5",
   "metadata": {},
   "outputs": [
    {
     "data": {
      "image/png": "[encoded data removed]",
      "text/plain": [
       "<Figure size 640x480 with 1 Axes>"
      ]
     },
     "metadata": {},
     "output_type": "display_data"
    }
   ],
   "source": [
    "plt.bar(df_gb['hour'], df_gb['sum_orders'], label='График почасовой загрузки.')\n",
    "plt.show()"
   ]
  },
  {
   "cell_type": "markdown",
   "id": "ad8ae291",
   "metadata": {},
   "source": [
    "*По визуализации слабо очевидно какое время возьмем за основу, предлагаю для анализа взять два интервала 7-9 часов и 16-18 часов*"
   ]
  },
  {
   "cell_type": "code",
   "execution_count": 29,
   "id": "30a1da28",
   "metadata": {},
   "outputs": [],
   "source": [
    "peak_hours = [7, 8, 9, 16, 17, 18]\n",
    "data['peak'] = np.where(data['time_view'].dt.hour.isin(peak_hours), 1, 0)"
   ]
  },
  {
   "cell_type": "markdown",
   "id": "a6bba2dc",
   "metadata": {},
   "source": [
    "*Выборка вне пиковых часов*"
   ]
  },
  {
   "cell_type": "code",
   "execution_count": 30,
   "id": "5462f70c",
   "metadata": {},
   "outputs": [
    {
     "name": "stdout",
     "output_type": "stream",
     "text": [
      "Выборки различны. pvalue = 8.063263936044878e-16\n",
      "При чем разница средних выборок составляет: 5.99 %\n"
     ]
    }
   ],
   "source": [
    "df = data.loc[data['peak'] == 0] \n",
    "\n",
    "ctr = df.loc[df['id_group'] == 0, 'nflag_order']\n",
    "tst = df.loc[df['id_group'] == 1, 'nflag_order']\n",
    "\n",
    "_ = t_test(tst, ctr)"
   ]
  },
  {
   "cell_type": "markdown",
   "id": "1b3a2b43",
   "metadata": {},
   "source": [
    "*Выборка в часы пик*"
   ]
  },
  {
   "cell_type": "code",
   "execution_count": 31,
   "id": "a25d6c1d",
   "metadata": {},
   "outputs": [
    {
     "name": "stdout",
     "output_type": "stream",
     "text": [
      "Выборки различны. pvalue = 1.0545045204948541e-06\n",
      "При чем разница средних выборок составляет: 6.35 %\n"
     ]
    }
   ],
   "source": [
    "df = data.loc[data['peak'] == 1] \n",
    "\n",
    "ctr = df.loc[df['id_group'] == 0, 'nflag_order']\n",
    "tst = df.loc[df['id_group'] == 1, 'nflag_order']\n",
    "\n",
    "_ = t_test(tst, ctr)"
   ]
  },
  {
   "cell_type": "markdown",
   "id": "48d51881",
   "metadata": {},
   "source": [
    "### Задание 3.5\n",
    "\n",
    "Опишите ваши результаты. Ваши выводы можно оформить внутри тетрадки .ipynb."
   ]
  },
  {
   "cell_type": "markdown",
   "id": "1369f056",
   "metadata": {},
   "source": [
    "**Вывод:**\n",
    "\n",
    "> После проведенного исследования эксперимент по внедрению новой платежной механики дал положительный результат.\n",
    "\n",
    "> Однако если оценить детали, то мы увидим что сумарно прирост конверсии из просмотра в заказ составил около 6%, причем положительный результат был зафиксирован лишь в трех крупных городах `['Москва', 'Санкт-Петербург', 'Казань']` (для каждого на 7-8%).\n",
    "\n",
    "> Тест в часы пик показал различие всего лишь в 0,36%\n",
    "\n",
    "> Предлагаю оценить MDE результата и внедрить новый механизм только в этих городах, или же продолжить поиск альтернативных механизмов увеличения конверсий."
   ]
  }
 ],
 "metadata": {
  "kernelspec": {
   "display_name": "Python 3 (ipykernel)",
   "language": "python",
   "name": "python3"
  },
  "language_info": {
   "codemirror_mode": {
    "name": "ipython",
    "version": 3
   },
   "file_extension": ".py",
   "mimetype": "text/x-python",
   "name": "python",
   "nbconvert_exporter": "python",
   "pygments_lexer": "ipython3",
   "version": "3.11.5"
  }
 },
 "nbformat": 4,
 "nbformat_minor": 5
}
