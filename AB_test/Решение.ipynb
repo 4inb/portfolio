{
 "cells": [
  {
   "cell_type": "markdown",
   "id": "4ea79e80",
   "metadata": {},
   "source": [
    "# Задача\n",
    "\n",
    "Вы работаете в компании *SkyJewel* (аналог Sokolov), которая занимается производством и продажей ювелирных изделий. \n",
    "\n",
    "В компании регулярно применяется рекламная акция, в соответствии с которой зарегистрированному в приложении пользователю приходит пуш-уведомление о выгодных скидках.\n",
    "\n",
    "Было решено провести A/B Тест, где тестовой группе вместо пуш-уведомления приходит смс-сообщение с таким же содержанием.\n",
    "\n",
    "Вам необходимо проанализировать результаты A/B Теста.\n",
    "\n",
    "\n",
    "Скачайте файл для работы над заданием\n",
    "\n",
    "[Домашняя работа Бизнес-3 (исходник).csv](https://s3-us-west-2.amazonaws.com/secure.notion-static.com/7a637998-2cad-4000-bff5-320b7baae59e/Домашняя_работа_Бизнес-3_(исходник).csv)\n",
    "\n",
    "**Описание таблицы:**\n",
    "- ***id_client*** - уникальный идентификатор клиента\n",
    "- ***id_group*** - идентификатор группы (0 - контроль, 1 - тест)\n",
    "- ***city*** - название города\n",
    "- ***nflag_purchase*** - факт покупки (1 - приобретен рекламируемый товар, 0 - нет)\n",
    "- ***time_came*** - дата регистрации пользователя в приложении \n",
    "    \n",
    "\n",
    "**Алгоритм выполнения задания:**\n",
    "1. Рассчитайте результаты A/B Теста по всей совокупности и сделайте выводы.\n",
    "2. Рассчитайте результаты A/B Теста для каждого города в отдельности и сделайте выводы.\n",
    "3. Рассчитайте результаты A/B Теста для каждого города отдельно для тех, кто зарегистрировался в 2020 году, и отдельно для тех, кто зарегистрировался в 2021 году. Сделайте выводы.\n",
    "4. (*) Подумайте о том, как можно автоматизировать алгоритм, чтобы не рассчитывать каждый раз одно и то же для каждого нового сегмента (ввести функцию с интерпретируемыми принтами).\n"
   ]
  },
  {
   "cell_type": "markdown",
   "id": "106a99dd",
   "metadata": {},
   "source": [
    "---\n",
    "# Установка библиотек, импорт библиотек и файлов"
   ]
  },
  {
   "cell_type": "code",
   "execution_count": 1,
   "id": "d0781e17",
   "metadata": {},
   "outputs": [],
   "source": [
    "# импорт библиотек\n",
    "import pandas as pd\n",
    "from scipy import stats"
   ]
  },
  {
   "cell_type": "code",
   "execution_count": 2,
   "id": "7782678b",
   "metadata": {},
   "outputs": [],
   "source": [
    "# импорт файлов\n",
    "file_name = 'Домашняя работа Бизнес-3 (исходник).csv'\n",
    "data = pd.read_csv(file_name, sep=';')"
   ]
  },
  {
   "cell_type": "markdown",
   "id": "1405fec2",
   "metadata": {},
   "source": [
    "# Решение"
   ]
  },
  {
   "cell_type": "markdown",
   "id": "1f721ee9",
   "metadata": {},
   "source": [
    "Посмотрим на данные и структуру таблицы"
   ]
  },
  {
   "cell_type": "code",
   "execution_count": 3,
   "id": "41044c88",
   "metadata": {},
   "outputs": [
    {
     "data": {
      "text/html": [
       "<div>\n",
       "<style scoped>\n",
       "    .dataframe tbody tr th:only-of-type {\n",
       "        vertical-align: middle;\n",
       "    }\n",
       "\n",
       "    .dataframe tbody tr th {\n",
       "        vertical-align: top;\n",
       "    }\n",
       "\n",
       "    .dataframe thead th {\n",
       "        text-align: right;\n",
       "    }\n",
       "</style>\n",
       "<table border=\"1\" class=\"dataframe\">\n",
       "  <thead>\n",
       "    <tr style=\"text-align: right;\">\n",
       "      <th></th>\n",
       "      <th>id_client</th>\n",
       "      <th>id_group</th>\n",
       "      <th>city</th>\n",
       "      <th>nflag_purchase</th>\n",
       "      <th>time_came</th>\n",
       "    </tr>\n",
       "  </thead>\n",
       "  <tbody>\n",
       "    <tr>\n",
       "      <th>541</th>\n",
       "      <td>24359894</td>\n",
       "      <td>0</td>\n",
       "      <td>Saint-Petersbourg</td>\n",
       "      <td>0</td>\n",
       "      <td>20.05.2020</td>\n",
       "    </tr>\n",
       "    <tr>\n",
       "      <th>3457</th>\n",
       "      <td>24357865</td>\n",
       "      <td>1</td>\n",
       "      <td>Novosibirsk</td>\n",
       "      <td>0</td>\n",
       "      <td>01.02.2021</td>\n",
       "    </tr>\n",
       "    <tr>\n",
       "      <th>4948</th>\n",
       "      <td>24358664</td>\n",
       "      <td>1</td>\n",
       "      <td>Moscow</td>\n",
       "      <td>1</td>\n",
       "      <td>02.09.2021</td>\n",
       "    </tr>\n",
       "    <tr>\n",
       "      <th>6124</th>\n",
       "      <td>24357491</td>\n",
       "      <td>0</td>\n",
       "      <td>Moscow</td>\n",
       "      <td>1</td>\n",
       "      <td>27.02.2020</td>\n",
       "    </tr>\n",
       "    <tr>\n",
       "      <th>1280</th>\n",
       "      <td>24358615</td>\n",
       "      <td>1</td>\n",
       "      <td>Saint-Petersbourg</td>\n",
       "      <td>0</td>\n",
       "      <td>22.01.2021</td>\n",
       "    </tr>\n",
       "    <tr>\n",
       "      <th>2014</th>\n",
       "      <td>24360975</td>\n",
       "      <td>1</td>\n",
       "      <td>Kazan</td>\n",
       "      <td>0</td>\n",
       "      <td>22.11.2020</td>\n",
       "    </tr>\n",
       "    <tr>\n",
       "      <th>540</th>\n",
       "      <td>24360314</td>\n",
       "      <td>1</td>\n",
       "      <td>Novosibirsk</td>\n",
       "      <td>0</td>\n",
       "      <td>31.01.2020</td>\n",
       "    </tr>\n",
       "    <tr>\n",
       "      <th>2179</th>\n",
       "      <td>24362941</td>\n",
       "      <td>0</td>\n",
       "      <td>Vladivostok</td>\n",
       "      <td>0</td>\n",
       "      <td>12.08.2021</td>\n",
       "    </tr>\n",
       "    <tr>\n",
       "      <th>4217</th>\n",
       "      <td>24358944</td>\n",
       "      <td>0</td>\n",
       "      <td>Novosibirsk</td>\n",
       "      <td>1</td>\n",
       "      <td>04.07.2020</td>\n",
       "    </tr>\n",
       "    <tr>\n",
       "      <th>5325</th>\n",
       "      <td>24360274</td>\n",
       "      <td>0</td>\n",
       "      <td>Saint-Petersbourg</td>\n",
       "      <td>0</td>\n",
       "      <td>16.07.2021</td>\n",
       "    </tr>\n",
       "  </tbody>\n",
       "</table>\n",
       "</div>"
      ],
      "text/plain": [
       "      id_client  id_group               city  nflag_purchase   time_came\n",
       "541    24359894         0  Saint-Petersbourg               0  20.05.2020\n",
       "3457   24357865         1        Novosibirsk               0  01.02.2021\n",
       "4948   24358664         1             Moscow               1  02.09.2021\n",
       "6124   24357491         0             Moscow               1  27.02.2020\n",
       "1280   24358615         1  Saint-Petersbourg               0  22.01.2021\n",
       "2014   24360975         1              Kazan               0  22.11.2020\n",
       "540    24360314         1        Novosibirsk               0  31.01.2020\n",
       "2179   24362941         0        Vladivostok               0  12.08.2021\n",
       "4217   24358944         0        Novosibirsk               1  04.07.2020\n",
       "5325   24360274         0  Saint-Petersbourg               0  16.07.2021"
      ]
     },
     "execution_count": 3,
     "metadata": {},
     "output_type": "execute_result"
    }
   ],
   "source": [
    "data.sample(10)"
   ]
  },
  {
   "cell_type": "markdown",
   "id": "466e4873",
   "metadata": {},
   "source": [
    "Приведем колонку даты к формату используемому в pandas"
   ]
  },
  {
   "cell_type": "code",
   "execution_count": 4,
   "id": "aac92e44",
   "metadata": {},
   "outputs": [
    {
     "data": {
      "text/html": [
       "<div>\n",
       "<style scoped>\n",
       "    .dataframe tbody tr th:only-of-type {\n",
       "        vertical-align: middle;\n",
       "    }\n",
       "\n",
       "    .dataframe tbody tr th {\n",
       "        vertical-align: top;\n",
       "    }\n",
       "\n",
       "    .dataframe thead th {\n",
       "        text-align: right;\n",
       "    }\n",
       "</style>\n",
       "<table border=\"1\" class=\"dataframe\">\n",
       "  <thead>\n",
       "    <tr style=\"text-align: right;\">\n",
       "      <th></th>\n",
       "      <th>id_client</th>\n",
       "      <th>id_group</th>\n",
       "      <th>city</th>\n",
       "      <th>nflag_purchase</th>\n",
       "      <th>time_came</th>\n",
       "    </tr>\n",
       "  </thead>\n",
       "  <tbody>\n",
       "    <tr>\n",
       "      <th>4186</th>\n",
       "      <td>24359784</td>\n",
       "      <td>0</td>\n",
       "      <td>Saint-Petersbourg</td>\n",
       "      <td>1</td>\n",
       "      <td>2021-05-10</td>\n",
       "    </tr>\n",
       "    <tr>\n",
       "      <th>5197</th>\n",
       "      <td>24361651</td>\n",
       "      <td>1</td>\n",
       "      <td>Kazan</td>\n",
       "      <td>0</td>\n",
       "      <td>2020-03-22</td>\n",
       "    </tr>\n",
       "    <tr>\n",
       "      <th>5085</th>\n",
       "      <td>24357297</td>\n",
       "      <td>1</td>\n",
       "      <td>Moscow</td>\n",
       "      <td>0</td>\n",
       "      <td>2021-03-28</td>\n",
       "    </tr>\n",
       "  </tbody>\n",
       "</table>\n",
       "</div>"
      ],
      "text/plain": [
       "      id_client  id_group               city  nflag_purchase  time_came\n",
       "4186   24359784         0  Saint-Petersbourg               1 2021-05-10\n",
       "5197   24361651         1              Kazan               0 2020-03-22\n",
       "5085   24357297         1             Moscow               0 2021-03-28"
      ]
     },
     "execution_count": 4,
     "metadata": {},
     "output_type": "execute_result"
    }
   ],
   "source": [
    "data['time_came'] = pd.to_datetime(data['time_came'], format='%d.%m.%Y')\n",
    "data.sample(3)"
   ]
  },
  {
   "cell_type": "markdown",
   "id": "e1e86b1c",
   "metadata": {},
   "source": [
    "Группируем данные для оценки"
   ]
  },
  {
   "cell_type": "code",
   "execution_count": 5,
   "id": "7f941269",
   "metadata": {},
   "outputs": [
    {
     "data": {
      "text/html": [
       "<div>\n",
       "<style scoped>\n",
       "    .dataframe tbody tr th:only-of-type {\n",
       "        vertical-align: middle;\n",
       "    }\n",
       "\n",
       "    .dataframe tbody tr th {\n",
       "        vertical-align: top;\n",
       "    }\n",
       "\n",
       "    .dataframe thead th {\n",
       "        text-align: right;\n",
       "    }\n",
       "</style>\n",
       "<table border=\"1\" class=\"dataframe\">\n",
       "  <thead>\n",
       "    <tr style=\"text-align: right;\">\n",
       "      <th></th>\n",
       "      <th>id_group</th>\n",
       "      <th>city</th>\n",
       "      <th>sum_purchase</th>\n",
       "      <th>cnt_clients</th>\n",
       "      <th>ratio</th>\n",
       "    </tr>\n",
       "  </thead>\n",
       "  <tbody>\n",
       "    <tr>\n",
       "      <th>0</th>\n",
       "      <td>0</td>\n",
       "      <td>Kazan</td>\n",
       "      <td>142</td>\n",
       "      <td>439</td>\n",
       "      <td>0.3235</td>\n",
       "    </tr>\n",
       "    <tr>\n",
       "      <th>5</th>\n",
       "      <td>1</td>\n",
       "      <td>Kazan</td>\n",
       "      <td>171</td>\n",
       "      <td>503</td>\n",
       "      <td>0.3400</td>\n",
       "    </tr>\n",
       "    <tr>\n",
       "      <th>1</th>\n",
       "      <td>0</td>\n",
       "      <td>Moscow</td>\n",
       "      <td>304</td>\n",
       "      <td>1106</td>\n",
       "      <td>0.2749</td>\n",
       "    </tr>\n",
       "    <tr>\n",
       "      <th>6</th>\n",
       "      <td>1</td>\n",
       "      <td>Moscow</td>\n",
       "      <td>311</td>\n",
       "      <td>1068</td>\n",
       "      <td>0.2912</td>\n",
       "    </tr>\n",
       "    <tr>\n",
       "      <th>2</th>\n",
       "      <td>0</td>\n",
       "      <td>Novosibirsk</td>\n",
       "      <td>152</td>\n",
       "      <td>585</td>\n",
       "      <td>0.2598</td>\n",
       "    </tr>\n",
       "    <tr>\n",
       "      <th>7</th>\n",
       "      <td>1</td>\n",
       "      <td>Novosibirsk</td>\n",
       "      <td>166</td>\n",
       "      <td>609</td>\n",
       "      <td>0.2726</td>\n",
       "    </tr>\n",
       "    <tr>\n",
       "      <th>3</th>\n",
       "      <td>0</td>\n",
       "      <td>Saint-Petersbourg</td>\n",
       "      <td>206</td>\n",
       "      <td>807</td>\n",
       "      <td>0.2553</td>\n",
       "    </tr>\n",
       "    <tr>\n",
       "      <th>8</th>\n",
       "      <td>1</td>\n",
       "      <td>Saint-Petersbourg</td>\n",
       "      <td>238</td>\n",
       "      <td>815</td>\n",
       "      <td>0.2920</td>\n",
       "    </tr>\n",
       "    <tr>\n",
       "      <th>4</th>\n",
       "      <td>0</td>\n",
       "      <td>Vladivostok</td>\n",
       "      <td>68</td>\n",
       "      <td>234</td>\n",
       "      <td>0.2906</td>\n",
       "    </tr>\n",
       "    <tr>\n",
       "      <th>9</th>\n",
       "      <td>1</td>\n",
       "      <td>Vladivostok</td>\n",
       "      <td>88</td>\n",
       "      <td>228</td>\n",
       "      <td>0.3860</td>\n",
       "    </tr>\n",
       "  </tbody>\n",
       "</table>\n",
       "</div>"
      ],
      "text/plain": [
       "   id_group               city  sum_purchase  cnt_clients   ratio\n",
       "0         0              Kazan           142          439  0.3235\n",
       "5         1              Kazan           171          503  0.3400\n",
       "1         0             Moscow           304         1106  0.2749\n",
       "6         1             Moscow           311         1068  0.2912\n",
       "2         0        Novosibirsk           152          585  0.2598\n",
       "7         1        Novosibirsk           166          609  0.2726\n",
       "3         0  Saint-Petersbourg           206          807  0.2553\n",
       "8         1  Saint-Petersbourg           238          815  0.2920\n",
       "4         0        Vladivostok            68          234  0.2906\n",
       "9         1        Vladivostok            88          228  0.3860"
      ]
     },
     "execution_count": 5,
     "metadata": {},
     "output_type": "execute_result"
    }
   ],
   "source": [
    "data_gr = data.groupby(['id_group', 'city']).agg({'nflag_purchase': 'sum', 'id_client': 'count'}).reset_index()\n",
    "data_gr = data_gr.rename(columns={'nflag_purchase': 'sum_purchase', 'id_client': 'cnt_clients'})\n",
    "data_gr['ratio'] = round(data_gr['sum_purchase'] / data_gr['cnt_clients'], 4)\n",
    "data_gr.sort_values(by='city')"
   ]
  },
  {
   "cell_type": "markdown",
   "id": "0e862c01",
   "metadata": {},
   "source": [
    "### - 1. Рассчитайте результаты A/B Теста по всей совокупности и сделайте выводы."
   ]
  },
  {
   "cell_type": "code",
   "execution_count": 6,
   "id": "8226f3b2",
   "metadata": {},
   "outputs": [
    {
     "name": "stdout",
     "output_type": "stream",
     "text": [
      "-2.4013624185110922 0.01636252986305824\n"
     ]
    }
   ],
   "source": [
    "# id_group - идентификатор группы (0 - контроль, 1 - тест)\n",
    "\n",
    "cont_group = data.loc[data['id_group'] == 0, 'nflag_purchase']\n",
    "test_group = data.loc[data['id_group'] == 1, 'nflag_purchase']\n",
    "\n",
    "s, p = stats.ttest_ind(cont_group, test_group)\n",
    "print(s, p)"
   ]
  },
  {
   "cell_type": "markdown",
   "id": "8e4712d6",
   "metadata": {},
   "source": [
    "s = -2.4 Выходит за границы -1.96, 1.96, и p = 0.01 меньше 5% следовательно гипотеза Н0 отвергается, следовательно будем сравнивать гипотезы Н1 (тестовая группа лучше чем контрольная или наоборот) и определим результат А/В тестирования"
   ]
  },
  {
   "cell_type": "code",
   "execution_count": 7,
   "id": "cb291158",
   "metadata": {},
   "outputs": [
    {
     "data": {
      "text/plain": [
       "(0.2749921160517187, 0.3022029165373875, 0.09004148867075011)"
      ]
     },
     "execution_count": 7,
     "metadata": {},
     "output_type": "execute_result"
    }
   ],
   "source": [
    "cont_group.mean(), test_group.mean(), (test_group.mean() - cont_group.mean()) / test_group.mean()"
   ]
  },
  {
   "cell_type": "markdown",
   "id": "70f66a32",
   "metadata": {},
   "source": [
    "По результату расчета видим что среднее выборки тестовой группы выросла больше на 9% относительно контрольной группы"
   ]
  },
  {
   "cell_type": "markdown",
   "id": "994675c3",
   "metadata": {},
   "source": [
    "### - 2. Рассчитайте результаты A/B Теста для каждого города в отдельности и сделайте выводы."
   ]
  },
  {
   "cell_type": "code",
   "execution_count": 8,
   "id": "272d5696",
   "metadata": {},
   "outputs": [],
   "source": [
    "def get_result_ABtest(test_df: pd.DataFrame, control_df: pd.DataFrame) -> None:\n",
    "    '''Выводит на печать результат А/В тестирования.'''\n",
    "    s, p = stats.ttest_ind(control_df, test_df)\n",
    "    if (p > 0.05):\n",
    "        print('Выборки не имеют существенной разницы!\\nИзменения над тестовой группой не повлеяли на качественные показатели\\nпо отношению к контрольной группуе...')\n",
    "    else:\n",
    "        print('РЕЗУЛЬТАТЫ ТЕСТИРОВАНИЯ:')\n",
    "        if control_df.mean() > test_df.mean():\n",
    "            diff = ((control_df.mean() - test_df.mean()) / control_df.mean()) * 100\n",
    "            print(f'Средняя выборки тестовой группы по сравнению с контрольной УПАЛА на {round(diff, 2)}%!')\n",
    "        elif control_df.mean() < test_df.mean():\n",
    "            diff = ((test_df.mean() - control_df.mean()) / control_df.mean()) * 100\n",
    "            print(f'Средняя выборки тестовой группы по сравнению с контрольной ВЫРОСЛА на {round(diff, 2)}%!')\n",
    "    print('s = ', round(s, 2), '\\np = ', round(p, 2),'\\n')"
   ]
  },
  {
   "cell_type": "code",
   "execution_count": 9,
   "id": "8b807148",
   "metadata": {},
   "outputs": [
    {
     "name": "stdout",
     "output_type": "stream",
     "text": [
      "------------------------------ Moscow ------------------------------\n",
      "Выборки не имеют существенной разницы!\n",
      "Изменения над тестовой группой не повлеяли на качественные показатели\n",
      "по отношению к контрольной группуе...\n",
      "s =  -0.85 \n",
      "p =  0.4 \n",
      "\n",
      "------------------------------ Saint-Petersbourg ------------------------------\n",
      "Выборки не имеют существенной разницы!\n",
      "Изменения над тестовой группой не повлеяли на качественные показатели\n",
      "по отношению к контрольной группуе...\n",
      "s =  -1.66 \n",
      "p =  0.1 \n",
      "\n",
      "------------------------------ Novosibirsk ------------------------------\n",
      "Выборки не имеют существенной разницы!\n",
      "Изменения над тестовой группой не повлеяли на качественные показатели\n",
      "по отношению к контрольной группуе...\n",
      "s =  -0.5 \n",
      "p =  0.62 \n",
      "\n",
      "------------------------------ Kazan ------------------------------\n",
      "Выборки не имеют существенной разницы!\n",
      "Изменения над тестовой группой не повлеяли на качественные показатели\n",
      "по отношению к контрольной группуе...\n",
      "s =  -0.54 \n",
      "p =  0.59 \n",
      "\n",
      "------------------------------ Vladivostok ------------------------------\n",
      "РЕЗУЛЬТАТЫ ТЕСТИРОВАНИЯ:\n",
      "Средняя выборки тестовой группы по сравнению с контрольной ВЫРОСЛА на 24.71%!\n",
      "s =  -2.17 \n",
      "p =  0.03 \n",
      "\n"
     ]
    }
   ],
   "source": [
    "for city in data['city'].unique():\n",
    "    cont_group = data.loc[(data['id_group'] == 0) & (data['city'] == city), 'nflag_purchase']\n",
    "    test_group = data.loc[(data['id_group'] == 1) & (data['city'] == city), 'nflag_purchase']\n",
    "    print('------------------------------', city, '------------------------------')\n",
    "    get_result_ABtest(test_group, cont_group)"
   ]
  },
  {
   "cell_type": "markdown",
   "id": "fae29126",
   "metadata": {},
   "source": [
    "### - 3. Рассчитайте результаты A/B Теста для каждого города отдельно для тех, кто зарегистрировался в 2020 году, и отдельно для тех, кто зарегистрировался в 2021 году. Сделайте выводы."
   ]
  },
  {
   "cell_type": "code",
   "execution_count": 10,
   "id": "0b472924",
   "metadata": {},
   "outputs": [
    {
     "name": "stdout",
     "output_type": "stream",
     "text": [
      "==============================================================================\n",
      "Оценка по 2020 году\n",
      "\n",
      "------------------------------ Saint-Petersbourg 2020 ------------------------------\n",
      "Выборки не имеют существенной разницы!\n",
      "Изменения над тестовой группой не повлеяли на качественные показатели\n",
      "по отношению к контрольной группуе...\n",
      "s =  -1.06 \n",
      "p =  0.29 \n",
      "\n",
      "------------------------------ Kazan 2020 ------------------------------\n",
      "Выборки не имеют существенной разницы!\n",
      "Изменения над тестовой группой не повлеяли на качественные показатели\n",
      "по отношению к контрольной группуе...\n",
      "s =  -0.61 \n",
      "p =  0.54 \n",
      "\n",
      "------------------------------ Moscow 2020 ------------------------------\n",
      "Выборки не имеют существенной разницы!\n",
      "Изменения над тестовой группой не повлеяли на качественные показатели\n",
      "по отношению к контрольной группуе...\n",
      "s =  -0.67 \n",
      "p =  0.51 \n",
      "\n",
      "------------------------------ Vladivostok 2020 ------------------------------\n",
      "РЕЗУЛЬТАТЫ ТЕСТИРОВАНИЯ:\n",
      "Средняя выборки тестовой группы по сравнению с контрольной ВЫРОСЛА на 44.46%!\n",
      "s =  -2.95 \n",
      "p =  0.0 \n",
      "\n",
      "------------------------------ Novosibirsk 2020 ------------------------------\n",
      "Выборки не имеют существенной разницы!\n",
      "Изменения над тестовой группой не повлеяли на качественные показатели\n",
      "по отношению к контрольной группуе...\n",
      "s =  -0.24 \n",
      "p =  0.81 \n",
      "\n",
      "==============================================================================\n",
      "Оценка по 2021 году\n",
      "\n",
      "------------------------------ Moscow 2021 ------------------------------\n",
      "Выборки не имеют существенной разницы!\n",
      "Изменения над тестовой группой не повлеяли на качественные показатели\n",
      "по отношению к контрольной группуе...\n",
      "s =  -0.56 \n",
      "p =  0.58 \n",
      "\n",
      "------------------------------ Saint-Petersbourg 2021 ------------------------------\n",
      "Выборки не имеют существенной разницы!\n",
      "Изменения над тестовой группой не повлеяли на качественные показатели\n",
      "по отношению к контрольной группуе...\n",
      "s =  -1.29 \n",
      "p =  0.2 \n",
      "\n",
      "------------------------------ Novosibirsk 2021 ------------------------------\n",
      "Выборки не имеют существенной разницы!\n",
      "Изменения над тестовой группой не повлеяли на качественные показатели\n",
      "по отношению к контрольной группуе...\n",
      "s =  -0.52 \n",
      "p =  0.6 \n",
      "\n",
      "------------------------------ Kazan 2021 ------------------------------\n",
      "Выборки не имеют существенной разницы!\n",
      "Изменения над тестовой группой не повлеяли на качественные показатели\n",
      "по отношению к контрольной группуе...\n",
      "s =  -0.11 \n",
      "p =  0.91 \n",
      "\n",
      "------------------------------ Vladivostok 2021 ------------------------------\n",
      "Выборки не имеют существенной разницы!\n",
      "Изменения над тестовой группой не повлеяли на качественные показатели\n",
      "по отношению к контрольной группуе...\n",
      "s =  -0.39 \n",
      "p =  0.7 \n",
      "\n"
     ]
    }
   ],
   "source": [
    "\n",
    "dct_dfs = {\n",
    "    '2020': data[data['time_came'].dt.year == 2020],\n",
    "    '2021': data[data['time_came'].dt.year == 2021]\n",
    "}\n",
    "\n",
    "for year, df in dct_dfs.items():\n",
    "    print('==============================================================================')\n",
    "    print('Оценка по',year, 'году\\n')\n",
    "    \n",
    "    for city in df['city'].unique():\n",
    "        cont_group = df.loc[(df['id_group'] == 0) & (df['city'] == city), 'nflag_purchase']\n",
    "        test_group = df.loc[(df['id_group'] == 1) & (df['city'] == city), 'nflag_purchase']\n",
    "        print('------------------------------', city, year, '------------------------------')\n",
    "        get_result_ABtest(test_group, cont_group)"
   ]
  },
  {
   "cell_type": "markdown",
   "id": "9d62a81b",
   "metadata": {},
   "source": [
    "### - 4. (*) Подумайте о том, как можно автоматизировать алгоритм, чтобы не рассчитывать каждый раз одно и то же для каждого нового сегмента (ввести функцию с интерпретируемыми принтами).\n",
    "\n",
    "\n",
    "*Мы уже применили одну функцию при оценки А/В теста (get_result_ABtest), предлагаю вазять ее за основу*"
   ]
  },
  {
   "cell_type": "code",
   "execution_count": 11,
   "id": "06990969",
   "metadata": {},
   "outputs": [],
   "source": [
    "# <1> ======================================================================================================================\n",
    "\n",
    "def get_result_ABtest(test_df: pd.DataFrame, control_df: pd.DataFrame) -> None:\n",
    "    '''\n",
    "    Выводит на печать результат А/В тестирования.\n",
    "    \n",
    "    :param test_df: Выборка тестовой группы параметров\n",
    "    :param control_df: Выборка генеральной группы параметров\n",
    "    '''\n",
    "    s, p = stats.ttest_ind(control_df, test_df)\n",
    "    if (p > 0.05):\n",
    "        print('Выборки не имеют существенной разницы!\\nИзменения над тестовой группой не повлеяли на качественные показатели\\nпо отношению к контрольной группуе...')\n",
    "    else:\n",
    "        print('РЕЗУЛЬТАТЫ ТЕСТИРОВАНИЯ:')\n",
    "        if control_df.mean() > test_df.mean():\n",
    "            diff = ((control_df.mean() - test_df.mean()) / control_df.mean()) * 100\n",
    "            print(f'Средняя выборки тестовой группы по сравнению с контрольной УПАЛА на {round(diff, 2)}%!')\n",
    "        elif control_df.mean() < test_df.mean():\n",
    "            diff = ((test_df.mean() - control_df.mean()) / control_df.mean()) * 100\n",
    "            print(f'Средняя выборки тестовой группы по сравнению с контрольной ВЫРОСЛА на {round(diff, 2)}%!')\n",
    "    print('s = ', round(s, 2), '\\np = ', round(p, 2),'\\n')\n",
    "    \n",
    "# <2> ======================================================================================================================\n",
    "    \n",
    "    \n",
    "def result_AB_test(df: pd.DataFrame, name_col_testing: str, name_col_flag: str, group_by: str=None) -> None:\n",
    "    '''\n",
    "    Получает DataFrame для оценки результатов А/В тестирования и выводит на печать результат.\n",
    "    \n",
    "    :param df: Данные для оценки\n",
    "    :param name_col_flag: Имя колонки, по которой отличается генеральная выборка от тестовой (0 - контроль, 1 - тест)\n",
    "    :param group_by: Колонка для группировки, если требуется (при групповой оценки тестирования)\n",
    "    '''\n",
    "    if group_by == None:\n",
    "        get_result_ABtest(df.loc[df[name_col_flag] == 0, name_col_testing], df.loc[df[name_col_flag] == 1, name_col_testing])\n",
    "    else:    \n",
    "        for meaning in df[group_by].unique():\n",
    "            cont_group = df.loc[(df[name_col_flag] == 0) & (df[group_by] == meaning), name_col_testing]\n",
    "            test_group = df.loc[(df[name_col_flag] == 1) & (df[group_by] == meaning), name_col_testing]\n",
    "            print('------------------------------', meaning, '------------------------------')\n",
    "            get_result_ABtest(test_group, cont_group)"
   ]
  },
  {
   "cell_type": "markdown",
   "id": "d975982f",
   "metadata": {},
   "source": [
    "**Тестируем работу функции:**"
   ]
  },
  {
   "cell_type": "code",
   "execution_count": 12,
   "id": "af14c7e3",
   "metadata": {},
   "outputs": [
    {
     "data": {
      "text/html": [
       "<div>\n",
       "<style scoped>\n",
       "    .dataframe tbody tr th:only-of-type {\n",
       "        vertical-align: middle;\n",
       "    }\n",
       "\n",
       "    .dataframe tbody tr th {\n",
       "        vertical-align: top;\n",
       "    }\n",
       "\n",
       "    .dataframe thead th {\n",
       "        text-align: right;\n",
       "    }\n",
       "</style>\n",
       "<table border=\"1\" class=\"dataframe\">\n",
       "  <thead>\n",
       "    <tr style=\"text-align: right;\">\n",
       "      <th></th>\n",
       "      <th>id_client</th>\n",
       "      <th>id_group</th>\n",
       "      <th>city</th>\n",
       "      <th>nflag_purchase</th>\n",
       "      <th>time_came</th>\n",
       "    </tr>\n",
       "  </thead>\n",
       "  <tbody>\n",
       "    <tr>\n",
       "      <th>4476</th>\n",
       "      <td>24363068</td>\n",
       "      <td>1</td>\n",
       "      <td>Vladivostok</td>\n",
       "      <td>1</td>\n",
       "      <td>2021-05-29</td>\n",
       "    </tr>\n",
       "    <tr>\n",
       "      <th>305</th>\n",
       "      <td>24357375</td>\n",
       "      <td>0</td>\n",
       "      <td>Moscow</td>\n",
       "      <td>1</td>\n",
       "      <td>2021-08-09</td>\n",
       "    </tr>\n",
       "    <tr>\n",
       "      <th>3652</th>\n",
       "      <td>24359367</td>\n",
       "      <td>1</td>\n",
       "      <td>Moscow</td>\n",
       "      <td>0</td>\n",
       "      <td>2021-05-03</td>\n",
       "    </tr>\n",
       "  </tbody>\n",
       "</table>\n",
       "</div>"
      ],
      "text/plain": [
       "      id_client  id_group         city  nflag_purchase  time_came\n",
       "4476   24363068         1  Vladivostok               1 2021-05-29\n",
       "305    24357375         0       Moscow               1 2021-08-09\n",
       "3652   24359367         1       Moscow               0 2021-05-03"
      ]
     },
     "execution_count": 12,
     "metadata": {},
     "output_type": "execute_result"
    }
   ],
   "source": [
    "data.sample(3)"
   ]
  },
  {
   "cell_type": "code",
   "execution_count": 13,
   "id": "c73cb917",
   "metadata": {},
   "outputs": [
    {
     "name": "stdout",
     "output_type": "stream",
     "text": [
      "РЕЗУЛЬТАТЫ ТЕСТИРОВАНИЯ:\n",
      "Средняя выборки тестовой группы по сравнению с контрольной УПАЛА на 9.0%!\n",
      "s =  2.4 \n",
      "p =  0.02 \n",
      "\n"
     ]
    }
   ],
   "source": [
    "# Рассчитайте результаты A/B Теста по всей совокупности\n",
    "result_AB_test(data, 'nflag_purchase', 'id_group')"
   ]
  },
  {
   "cell_type": "code",
   "execution_count": 14,
   "id": "3f0b3bc9",
   "metadata": {},
   "outputs": [
    {
     "name": "stdout",
     "output_type": "stream",
     "text": [
      "------------------------------ Moscow ------------------------------\n",
      "Выборки не имеют существенной разницы!\n",
      "Изменения над тестовой группой не повлеяли на качественные показатели\n",
      "по отношению к контрольной группуе...\n",
      "s =  -0.85 \n",
      "p =  0.4 \n",
      "\n",
      "------------------------------ Saint-Petersbourg ------------------------------\n",
      "Выборки не имеют существенной разницы!\n",
      "Изменения над тестовой группой не повлеяли на качественные показатели\n",
      "по отношению к контрольной группуе...\n",
      "s =  -1.66 \n",
      "p =  0.1 \n",
      "\n",
      "------------------------------ Novosibirsk ------------------------------\n",
      "Выборки не имеют существенной разницы!\n",
      "Изменения над тестовой группой не повлеяли на качественные показатели\n",
      "по отношению к контрольной группуе...\n",
      "s =  -0.5 \n",
      "p =  0.62 \n",
      "\n",
      "------------------------------ Kazan ------------------------------\n",
      "Выборки не имеют существенной разницы!\n",
      "Изменения над тестовой группой не повлеяли на качественные показатели\n",
      "по отношению к контрольной группуе...\n",
      "s =  -0.54 \n",
      "p =  0.59 \n",
      "\n",
      "------------------------------ Vladivostok ------------------------------\n",
      "РЕЗУЛЬТАТЫ ТЕСТИРОВАНИЯ:\n",
      "Средняя выборки тестовой группы по сравнению с контрольной ВЫРОСЛА на 24.71%!\n",
      "s =  -2.17 \n",
      "p =  0.03 \n",
      "\n"
     ]
    }
   ],
   "source": [
    "# Рассчитайте результаты A/B Теста по каждому городу\n",
    "result_AB_test(data, 'nflag_purchase', 'id_group', 'city')"
   ]
  }
 ],
 "metadata": {
  "kernelspec": {
   "display_name": "Python 3 (ipykernel)",
   "language": "python",
   "name": "python3"
  },
  "language_info": {
   "codemirror_mode": {
    "name": "ipython",
    "version": 3
   },
   "file_extension": ".py",
   "mimetype": "text/x-python",
   "name": "python",
   "nbconvert_exporter": "python",
   "pygments_lexer": "ipython3",
   "version": "3.11.5"
  }
 },
 "nbformat": 4,
 "nbformat_minor": 5
}
