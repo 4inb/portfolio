{
 "cells": [
  {
   "cell_type": "markdown",
   "id": "14c770c2",
   "metadata": {},
   "source": [
    "# Условия домашки\n",
    "\n",
    "В рамках этого домашнего задания вы поработаете с данными по платежам и проведете сегментацию пользователей.\n",
    "\n",
    "1. Скачайте файлы с данными.\n",
    "\n",
    "> **Описание данных:**\n",
    "> \n",
    "> - device_client:  \n",
    "> id_client - уникальный идентификатор клиента  \n",
    "> type - тип устройства, с которого клиент регистрировался\n",
    ">\n",
    "> - payment_client:  \n",
    "> id_client - уникальный идентификатор клиента  \n",
    "> amt_pay - суммарный размер платежа за последние полгода  \n",
    "\n",
    "2. Постройте распределение клиентских платежей (с помощью гистограммы) и оцените,  насколько данное распределение похоже на нормальное с помощью правила трех сигм (а также одной и двух сигм).\n",
    "\n",
    "3. Проведите такой же анализ близости к нормальному распределению для каждого типа устройства клиентов по отдельности.  Платежи по какому типу устройства больше всего похожи на нормальное распределение?\n",
    "\n",
    "4. Создайте датафрейм df_res со следующей структурой:\n",
    "\n",
    "> Каждая строка показывает свой тип устройства (итого 3 строки).\n",
    ">\n",
    "> Колонки:  \n",
    "> - Тип устройства  \n",
    "> - Процент выборки внутри среднее плюс-минус одна сигма (1sigma)    \n",
    "> - Процент выборки внутри среднее плюс-минус две сигмы (2sigma)  \n",
    "> - Процент выборки внутри среднее плюс-минус три сигмы (3sigma)  \n",
    "> - Разница по сравнению с соответствующим показателем нормального распределения - 68% (diff1sigma)  \n",
    "> - Разница по сравнению с соответствующим показателем нормального распределения - 95% (diff2sigma)  \n",
    "> - Разница по сравнению с соответствующим показателем нормального распределения - 99.7% (diff3sigma)  \n",
    "\n",
    "\n",
    "**Задание со звездочкой**\n",
    "\n",
    "Что если типов устройства не 3, а 100?  \n",
    "Придумайте, как автоматизировать и масштабировать свои вычисления,  \n",
    "чтобы на выходе получался такой же датафрейм *df_res,* но с сотней строк.\n",
    "\n",
    "*Для этого вам может понадобиться создание функций и циклов.*"
   ]
  },
  {
   "cell_type": "markdown",
   "id": "5743a4fe",
   "metadata": {},
   "source": [
    "# Решение:"
   ]
  },
  {
   "cell_type": "markdown",
   "id": "9adf8aa0",
   "metadata": {},
   "source": [
    "## Установка и импорт всех необходимых библиотек"
   ]
  },
  {
   "cell_type": "code",
   "execution_count": 1,
   "id": "3855d7be",
   "metadata": {},
   "outputs": [],
   "source": [
    "# для работы со структурами данных\n",
    "import numpy as np\n",
    "import pandas as pd\n",
    "import scipy.stats as stats\n",
    "\n",
    "# для графического отображения данных\n",
    "from matplotlib import pyplot as plt\n",
    "import seaborn as sns"
   ]
  },
  {
   "cell_type": "markdown",
   "id": "043f2f2c",
   "metadata": {},
   "source": [
    "### Задание 1. Импорт в блокнот всех данных из файлов"
   ]
  },
  {
   "cell_type": "code",
   "execution_count": 2,
   "id": "f5120f63",
   "metadata": {},
   "outputs": [],
   "source": [
    "df_device = pd.read_csv('device_client.csv', sep=';')\n",
    "df_payment = pd.read_csv('payment_client.csv', sep=';')"
   ]
  },
  {
   "cell_type": "code",
   "execution_count": 3,
   "id": "676bd760",
   "metadata": {},
   "outputs": [
    {
     "data": {
      "text/html": [
       "<div>\n",
       "<style scoped>\n",
       "    .dataframe tbody tr th:only-of-type {\n",
       "        vertical-align: middle;\n",
       "    }\n",
       "\n",
       "    .dataframe tbody tr th {\n",
       "        vertical-align: top;\n",
       "    }\n",
       "\n",
       "    .dataframe thead th {\n",
       "        text-align: right;\n",
       "    }\n",
       "</style>\n",
       "<table border=\"1\" class=\"dataframe\">\n",
       "  <thead>\n",
       "    <tr style=\"text-align: right;\">\n",
       "      <th></th>\n",
       "      <th>id_client</th>\n",
       "      <th>type</th>\n",
       "    </tr>\n",
       "  </thead>\n",
       "  <tbody>\n",
       "    <tr>\n",
       "      <th>618</th>\n",
       "      <td>18720</td>\n",
       "      <td>ios</td>\n",
       "    </tr>\n",
       "    <tr>\n",
       "      <th>731</th>\n",
       "      <td>19127</td>\n",
       "      <td>PC</td>\n",
       "    </tr>\n",
       "    <tr>\n",
       "      <th>28</th>\n",
       "      <td>18457</td>\n",
       "      <td>PC</td>\n",
       "    </tr>\n",
       "    <tr>\n",
       "      <th>64</th>\n",
       "      <td>19059</td>\n",
       "      <td>ios</td>\n",
       "    </tr>\n",
       "    <tr>\n",
       "      <th>285</th>\n",
       "      <td>18907</td>\n",
       "      <td>ios</td>\n",
       "    </tr>\n",
       "  </tbody>\n",
       "</table>\n",
       "</div>"
      ],
      "text/plain": [
       "     id_client type\n",
       "618      18720  ios\n",
       "731      19127   PC\n",
       "28       18457   PC\n",
       "64       19059  ios\n",
       "285      18907  ios"
      ]
     },
     "execution_count": 3,
     "metadata": {},
     "output_type": "execute_result"
    }
   ],
   "source": [
    "# проверим что мы загрузили\n",
    "df_device.sample(5)"
   ]
  },
  {
   "cell_type": "code",
   "execution_count": 4,
   "id": "99dad374",
   "metadata": {},
   "outputs": [
    {
     "data": {
      "text/html": [
       "<div>\n",
       "<style scoped>\n",
       "    .dataframe tbody tr th:only-of-type {\n",
       "        vertical-align: middle;\n",
       "    }\n",
       "\n",
       "    .dataframe tbody tr th {\n",
       "        vertical-align: top;\n",
       "    }\n",
       "\n",
       "    .dataframe thead th {\n",
       "        text-align: right;\n",
       "    }\n",
       "</style>\n",
       "<table border=\"1\" class=\"dataframe\">\n",
       "  <thead>\n",
       "    <tr style=\"text-align: right;\">\n",
       "      <th></th>\n",
       "      <th>id_client</th>\n",
       "      <th>amt_pay</th>\n",
       "    </tr>\n",
       "  </thead>\n",
       "  <tbody>\n",
       "    <tr>\n",
       "      <th>683</th>\n",
       "      <td>19027</td>\n",
       "      <td>7647</td>\n",
       "    </tr>\n",
       "    <tr>\n",
       "      <th>763</th>\n",
       "      <td>18996</td>\n",
       "      <td>2532</td>\n",
       "    </tr>\n",
       "    <tr>\n",
       "      <th>571</th>\n",
       "      <td>18432</td>\n",
       "      <td>4986</td>\n",
       "    </tr>\n",
       "    <tr>\n",
       "      <th>167</th>\n",
       "      <td>18730</td>\n",
       "      <td>3864</td>\n",
       "    </tr>\n",
       "    <tr>\n",
       "      <th>373</th>\n",
       "      <td>18973</td>\n",
       "      <td>541</td>\n",
       "    </tr>\n",
       "  </tbody>\n",
       "</table>\n",
       "</div>"
      ],
      "text/plain": [
       "     id_client  amt_pay\n",
       "683      19027     7647\n",
       "763      18996     2532\n",
       "571      18432     4986\n",
       "167      18730     3864\n",
       "373      18973      541"
      ]
     },
     "execution_count": 4,
     "metadata": {},
     "output_type": "execute_result"
    }
   ],
   "source": [
    "df_payment.sample(5)"
   ]
  },
  {
   "cell_type": "markdown",
   "id": "c953e25f",
   "metadata": {},
   "source": [
    "### Задание 2. Постройте распределение клиентских платежей\n",
    "\n",
    "Постройте распределение клиентских платежей (с помощью гистограммы) и оцените,  \n",
    "насколько данное распределение похоже на нормальное с помощью правила трех сигм (а также одной и двух сигм)."
   ]
  },
  {
   "cell_type": "code",
   "execution_count": 5,
   "id": "2b484456",
   "metadata": {},
   "outputs": [
    {
     "data": {
      "image/png": "[encoded data removed]",
      "text/plain": [
       "<Figure size 1000x500 with 2 Axes>"
      ]
     },
     "metadata": {},
     "output_type": "display_data"
    }
   ],
   "source": [
    "# сравниваю две библиотеки с настройками по умолчанию\n",
    "\n",
    "fig, (ax1, ax2) = plt.subplots(1, 2, figsize=(10, 5))\n",
    "\n",
    "ax1.set_title('Matplotlib')\n",
    "ax2.set_title('Seaborn')\n",
    "\n",
    "ax1.hist(df_payment['amt_pay'])\n",
    "sns.histplot(ax=ax2, data=df_payment, x=\"amt_pay\")\n",
    "\n",
    "plt.show()"
   ]
  },
  {
   "cell_type": "code",
   "execution_count": 6,
   "id": "4299ef91",
   "metadata": {},
   "outputs": [
    {
     "name": "stdout",
     "output_type": "stream",
     "text": [
      "Среднее =  3961.2182284980745\n",
      "Сигма =  2124.655341443493\n"
     ]
    }
   ],
   "source": [
    "m = df_payment['amt_pay'].mean()    # Вычисление среднего значения\n",
    "s = df_payment['amt_pay'].std()     # Вычисление стандартного отклонения - сигма\n",
    "\n",
    "print('Среднее = ', m)\n",
    "print('Сигма = ', s)"
   ]
  },
  {
   "cell_type": "markdown",
   "id": "d5517a47",
   "metadata": {},
   "source": [
    "**Правило трех сигм**\n",
    "\n",
    "Распределение считается нормальным если соблюдаются следующие условия\n",
    "\n",
    "|наблюдение|комментарий|\n",
    "|:---|:---|\n",
    "|$1\\sigma = 68\\%$|68% наблюдений попадают в интервал +/- 1 сигма от среднего|\n",
    "|$2\\sigma = 95\\%$|95% наблюдений попадают в интервал +/- 2 сигмы от среднего|\n",
    "|$3\\sigma = 99.7\\%$|99.7% наблюдений попадают в интервал +/- 3 сигмы от среднего|"
   ]
  },
  {
   "cell_type": "code",
   "execution_count": 7,
   "id": "b956d93d",
   "metadata": {},
   "outputs": [
    {
     "name": "stdout",
     "output_type": "stream",
     "text": [
      "Доля наблюдений в 1 сигме 0.65, для нормального распр. необходимо 0.68\n",
      "Доля наблюдений в 2 сигме 0.97, для нормального распр. необходимо 0.95\n",
      "Доля наблюдений в 3 сигме 1.0, для нормального распр. необходимо 0.97\n"
     ]
    }
   ],
   "source": [
    "# DataFrame из +/- 1 сигма от среднего\n",
    "df_one_sigma = df_payment[(df_payment['amt_pay'] >= m - s) & (df_payment['amt_pay'] <= m + s)]\n",
    "act_div_one_sigma = df_one_sigma['id_client'].count() / df_payment['id_client'].count()\n",
    "req_div_one_sigma = 0.68\n",
    "print(f\"Доля наблюдений в 1 сигме {round(act_div_one_sigma, 2)}, для нормального распр. необходимо {req_div_one_sigma}\")\n",
    "\n",
    "# DataFrame из +/- 2 сигма от среднего\n",
    "df_two_sigma = df_payment[(df_payment['amt_pay'] >= m - 2*s) & (df_payment['amt_pay'] <= m + 2*s)]\n",
    "act_div_two_sigma = df_two_sigma['id_client'].count() / df_payment['id_client'].count()\n",
    "req_div_two_sigma = 0.95\n",
    "print(f\"Доля наблюдений в 2 сигме {round(act_div_two_sigma, 2)}, для нормального распр. необходимо {req_div_two_sigma}\")\n",
    "\n",
    "# DataFrame из +/- 3 сигма от среднего\n",
    "df_three_sigma = df_payment[(df_payment['amt_pay'] >= m - 3*s) & (df_payment['amt_pay'] <= m + 3*s)]\n",
    "act_div_three_sigma = df_three_sigma['id_client'].count() / df_payment['id_client'].count()\n",
    "req_div_three_sigma = 0.97\n",
    "print(f\"Доля наблюдений в 3 сигме {round(act_div_three_sigma, 2)}, для нормального распр. необходимо {req_div_three_sigma}\")"
   ]
  },
  {
   "cell_type": "markdown",
   "id": "f24ced98",
   "metadata": {},
   "source": [
    "**Вывод:** распределение из таблицы близко к нормальному"
   ]
  },
  {
   "cell_type": "code",
   "execution_count": 8,
   "id": "e891ba86",
   "metadata": {},
   "outputs": [
    {
     "data": {
      "image/png": "[encoded data removed]",
      "text/plain": [
       "<Figure size 1500x1000 with 1 Axes>"
      ]
     },
     "metadata": {},
     "output_type": "display_data"
    }
   ],
   "source": [
    "sns.set(rc={'figure.figsize':(15,10)})\n",
    "plt.title('Распределение платежей')\n",
    "\n",
    "sns.histplot(data=df_three_sigma, x='amt_pay', alpha=0.4)\n",
    "sns.histplot(data=df_two_sigma, x='amt_pay', alpha=0.5)\n",
    "sns.histplot(data=df_one_sigma, x='amt_pay', alpha=0.6)\n",
    "\n",
    "plt.show()"
   ]
  },
  {
   "cell_type": "markdown",
   "id": "07591004",
   "metadata": {},
   "source": [
    "### Задание 3.  Постройте распределение клиентских платежей для каждого типа устройств\n",
    "\n",
    "Проведите такой же анализ близости к нормальному распределению для каждого типа устройства клиентов по отдельности. Платежи по какому типу устройства больше всего похожи на нормальное распределение?"
   ]
  },
  {
   "cell_type": "code",
   "execution_count": 9,
   "id": "84b338f9",
   "metadata": {},
   "outputs": [
    {
     "data": {
      "text/html": [
       "<div>\n",
       "<style scoped>\n",
       "    .dataframe tbody tr th:only-of-type {\n",
       "        vertical-align: middle;\n",
       "    }\n",
       "\n",
       "    .dataframe tbody tr th {\n",
       "        vertical-align: top;\n",
       "    }\n",
       "\n",
       "    .dataframe thead th {\n",
       "        text-align: right;\n",
       "    }\n",
       "</style>\n",
       "<table border=\"1\" class=\"dataframe\">\n",
       "  <thead>\n",
       "    <tr style=\"text-align: right;\">\n",
       "      <th></th>\n",
       "      <th>id_client</th>\n",
       "      <th>type</th>\n",
       "    </tr>\n",
       "  </thead>\n",
       "  <tbody>\n",
       "    <tr>\n",
       "      <th>0</th>\n",
       "      <td>19091</td>\n",
       "      <td>ios</td>\n",
       "    </tr>\n",
       "    <tr>\n",
       "      <th>1</th>\n",
       "      <td>18768</td>\n",
       "      <td>PC</td>\n",
       "    </tr>\n",
       "  </tbody>\n",
       "</table>\n",
       "</div>"
      ],
      "text/plain": [
       "   id_client type\n",
       "0      19091  ios\n",
       "1      18768   PC"
      ]
     },
     "execution_count": 9,
     "metadata": {},
     "output_type": "execute_result"
    }
   ],
   "source": [
    "df_device.head(2)"
   ]
  },
  {
   "cell_type": "code",
   "execution_count": 10,
   "id": "c30acdc1",
   "metadata": {},
   "outputs": [
    {
     "data": {
      "text/html": [
       "<div>\n",
       "<style scoped>\n",
       "    .dataframe tbody tr th:only-of-type {\n",
       "        vertical-align: middle;\n",
       "    }\n",
       "\n",
       "    .dataframe tbody tr th {\n",
       "        vertical-align: top;\n",
       "    }\n",
       "\n",
       "    .dataframe thead th {\n",
       "        text-align: right;\n",
       "    }\n",
       "</style>\n",
       "<table border=\"1\" class=\"dataframe\">\n",
       "  <thead>\n",
       "    <tr style=\"text-align: right;\">\n",
       "      <th></th>\n",
       "      <th>id_client</th>\n",
       "      <th>amt_pay</th>\n",
       "    </tr>\n",
       "  </thead>\n",
       "  <tbody>\n",
       "    <tr>\n",
       "      <th>0</th>\n",
       "      <td>18788</td>\n",
       "      <td>24</td>\n",
       "    </tr>\n",
       "    <tr>\n",
       "      <th>1</th>\n",
       "      <td>19059</td>\n",
       "      <td>3743</td>\n",
       "    </tr>\n",
       "  </tbody>\n",
       "</table>\n",
       "</div>"
      ],
      "text/plain": [
       "   id_client  amt_pay\n",
       "0      18788       24\n",
       "1      19059     3743"
      ]
     },
     "execution_count": 10,
     "metadata": {},
     "output_type": "execute_result"
    }
   ],
   "source": [
    "df_payment.head(2)"
   ]
  },
  {
   "cell_type": "markdown",
   "id": "5a284d14",
   "metadata": {},
   "source": [
    "***Обьединяем две таблицы по общей колонке***"
   ]
  },
  {
   "cell_type": "code",
   "execution_count": 11,
   "id": "7de8a0ac",
   "metadata": {},
   "outputs": [
    {
     "data": {
      "text/html": [
       "<div>\n",
       "<style scoped>\n",
       "    .dataframe tbody tr th:only-of-type {\n",
       "        vertical-align: middle;\n",
       "    }\n",
       "\n",
       "    .dataframe tbody tr th {\n",
       "        vertical-align: top;\n",
       "    }\n",
       "\n",
       "    .dataframe thead th {\n",
       "        text-align: right;\n",
       "    }\n",
       "</style>\n",
       "<table border=\"1\" class=\"dataframe\">\n",
       "  <thead>\n",
       "    <tr style=\"text-align: right;\">\n",
       "      <th></th>\n",
       "      <th>id_client</th>\n",
       "      <th>amt_pay</th>\n",
       "      <th>type</th>\n",
       "    </tr>\n",
       "  </thead>\n",
       "  <tbody>\n",
       "    <tr>\n",
       "      <th>238</th>\n",
       "      <td>18936</td>\n",
       "      <td>6945</td>\n",
       "      <td>ios</td>\n",
       "    </tr>\n",
       "    <tr>\n",
       "      <th>725</th>\n",
       "      <td>18642</td>\n",
       "      <td>2046</td>\n",
       "      <td>android</td>\n",
       "    </tr>\n",
       "    <tr>\n",
       "      <th>776</th>\n",
       "      <td>18462</td>\n",
       "      <td>6172</td>\n",
       "      <td>android</td>\n",
       "    </tr>\n",
       "    <tr>\n",
       "      <th>211</th>\n",
       "      <td>19030</td>\n",
       "      <td>327</td>\n",
       "      <td>ios</td>\n",
       "    </tr>\n",
       "    <tr>\n",
       "      <th>27</th>\n",
       "      <td>18513</td>\n",
       "      <td>2190</td>\n",
       "      <td>PC</td>\n",
       "    </tr>\n",
       "  </tbody>\n",
       "</table>\n",
       "</div>"
      ],
      "text/plain": [
       "     id_client  amt_pay     type\n",
       "238      18936     6945      ios\n",
       "725      18642     2046  android\n",
       "776      18462     6172  android\n",
       "211      19030      327      ios\n",
       "27       18513     2190       PC"
      ]
     },
     "execution_count": 11,
     "metadata": {},
     "output_type": "execute_result"
    }
   ],
   "source": [
    "df = pd.merge(df_payment, df_device, how='outer', on='id_client')\n",
    "df.sample(5)"
   ]
  },
  {
   "cell_type": "markdown",
   "id": "1d4f2b0d",
   "metadata": {},
   "source": [
    "***Получим список всех устройств***"
   ]
  },
  {
   "cell_type": "code",
   "execution_count": 12,
   "id": "6fa65e58",
   "metadata": {},
   "outputs": [
    {
     "data": {
      "text/plain": [
       "['android', 'ios', 'PC']"
      ]
     },
     "execution_count": 12,
     "metadata": {},
     "output_type": "execute_result"
    }
   ],
   "source": [
    "typs_devices = list(set(df['type']))\n",
    "typs_devices"
   ]
  },
  {
   "cell_type": "markdown",
   "id": "b4723b2f",
   "metadata": {},
   "source": [
    "**Создаем DataFrame для каждого типа устройств**"
   ]
  },
  {
   "cell_type": "code",
   "execution_count": 13,
   "id": "71569563",
   "metadata": {},
   "outputs": [
    {
     "data": {
      "text/html": [
       "<div>\n",
       "<style scoped>\n",
       "    .dataframe tbody tr th:only-of-type {\n",
       "        vertical-align: middle;\n",
       "    }\n",
       "\n",
       "    .dataframe tbody tr th {\n",
       "        vertical-align: top;\n",
       "    }\n",
       "\n",
       "    .dataframe thead th {\n",
       "        text-align: right;\n",
       "    }\n",
       "</style>\n",
       "<table border=\"1\" class=\"dataframe\">\n",
       "  <thead>\n",
       "    <tr style=\"text-align: right;\">\n",
       "      <th></th>\n",
       "      <th>id_client</th>\n",
       "      <th>amt_pay</th>\n",
       "    </tr>\n",
       "  </thead>\n",
       "  <tbody>\n",
       "  </tbody>\n",
       "</table>\n",
       "</div>"
      ],
      "text/plain": [
       "Empty DataFrame\n",
       "Columns: [id_client, amt_pay]\n",
       "Index: []"
      ]
     },
     "execution_count": 13,
     "metadata": {},
     "output_type": "execute_result"
    }
   ],
   "source": [
    "df_None = df.loc[df['type'] == None, ['id_client', 'amt_pay']]\n",
    "df_None.head(5)"
   ]
  },
  {
   "cell_type": "code",
   "execution_count": 14,
   "id": "15c2ea6c",
   "metadata": {},
   "outputs": [
    {
     "data": {
      "text/html": [
       "<div>\n",
       "<style scoped>\n",
       "    .dataframe tbody tr th:only-of-type {\n",
       "        vertical-align: middle;\n",
       "    }\n",
       "\n",
       "    .dataframe tbody tr th {\n",
       "        vertical-align: top;\n",
       "    }\n",
       "\n",
       "    .dataframe thead th {\n",
       "        text-align: right;\n",
       "    }\n",
       "</style>\n",
       "<table border=\"1\" class=\"dataframe\">\n",
       "  <thead>\n",
       "    <tr style=\"text-align: right;\">\n",
       "      <th></th>\n",
       "      <th>id_client</th>\n",
       "      <th>amt_pay</th>\n",
       "    </tr>\n",
       "  </thead>\n",
       "  <tbody>\n",
       "    <tr>\n",
       "      <th>0</th>\n",
       "      <td>18788</td>\n",
       "      <td>24</td>\n",
       "    </tr>\n",
       "    <tr>\n",
       "      <th>1</th>\n",
       "      <td>19059</td>\n",
       "      <td>3743</td>\n",
       "    </tr>\n",
       "    <tr>\n",
       "      <th>3</th>\n",
       "      <td>18795</td>\n",
       "      <td>2202</td>\n",
       "    </tr>\n",
       "    <tr>\n",
       "      <th>8</th>\n",
       "      <td>19098</td>\n",
       "      <td>8141</td>\n",
       "    </tr>\n",
       "    <tr>\n",
       "      <th>10</th>\n",
       "      <td>18747</td>\n",
       "      <td>700</td>\n",
       "    </tr>\n",
       "  </tbody>\n",
       "</table>\n",
       "</div>"
      ],
      "text/plain": [
       "    id_client  amt_pay\n",
       "0       18788       24\n",
       "1       19059     3743\n",
       "3       18795     2202\n",
       "8       19098     8141\n",
       "10      18747      700"
      ]
     },
     "execution_count": 14,
     "metadata": {},
     "output_type": "execute_result"
    }
   ],
   "source": [
    "df_ios = df.loc[df['type'] == 'ios', ['id_client', 'amt_pay']]\n",
    "df_ios.head(5)"
   ]
  },
  {
   "cell_type": "code",
   "execution_count": 15,
   "id": "2582e409",
   "metadata": {},
   "outputs": [
    {
     "data": {
      "text/html": [
       "<div>\n",
       "<style scoped>\n",
       "    .dataframe tbody tr th:only-of-type {\n",
       "        vertical-align: middle;\n",
       "    }\n",
       "\n",
       "    .dataframe tbody tr th {\n",
       "        vertical-align: top;\n",
       "    }\n",
       "\n",
       "    .dataframe thead th {\n",
       "        text-align: right;\n",
       "    }\n",
       "</style>\n",
       "<table border=\"1\" class=\"dataframe\">\n",
       "  <thead>\n",
       "    <tr style=\"text-align: right;\">\n",
       "      <th></th>\n",
       "      <th>id_client</th>\n",
       "      <th>amt_pay</th>\n",
       "    </tr>\n",
       "  </thead>\n",
       "  <tbody>\n",
       "    <tr>\n",
       "      <th>6</th>\n",
       "      <td>18967</td>\n",
       "      <td>3600</td>\n",
       "    </tr>\n",
       "    <tr>\n",
       "      <th>14</th>\n",
       "      <td>19052</td>\n",
       "      <td>3400</td>\n",
       "    </tr>\n",
       "    <tr>\n",
       "      <th>21</th>\n",
       "      <td>19100</td>\n",
       "      <td>936</td>\n",
       "    </tr>\n",
       "    <tr>\n",
       "      <th>22</th>\n",
       "      <td>18452</td>\n",
       "      <td>5107</td>\n",
       "    </tr>\n",
       "    <tr>\n",
       "      <th>24</th>\n",
       "      <td>18561</td>\n",
       "      <td>1390</td>\n",
       "    </tr>\n",
       "  </tbody>\n",
       "</table>\n",
       "</div>"
      ],
      "text/plain": [
       "    id_client  amt_pay\n",
       "6       18967     3600\n",
       "14      19052     3400\n",
       "21      19100      936\n",
       "22      18452     5107\n",
       "24      18561     1390"
      ]
     },
     "execution_count": 15,
     "metadata": {},
     "output_type": "execute_result"
    }
   ],
   "source": [
    "df_pc = df.loc[df['type'] == 'PC', ['id_client', 'amt_pay']]\n",
    "df_pc.head(5)"
   ]
  },
  {
   "cell_type": "code",
   "execution_count": 16,
   "id": "96ccb676",
   "metadata": {},
   "outputs": [
    {
     "data": {
      "text/html": [
       "<div>\n",
       "<style scoped>\n",
       "    .dataframe tbody tr th:only-of-type {\n",
       "        vertical-align: middle;\n",
       "    }\n",
       "\n",
       "    .dataframe tbody tr th {\n",
       "        vertical-align: top;\n",
       "    }\n",
       "\n",
       "    .dataframe thead th {\n",
       "        text-align: right;\n",
       "    }\n",
       "</style>\n",
       "<table border=\"1\" class=\"dataframe\">\n",
       "  <thead>\n",
       "    <tr style=\"text-align: right;\">\n",
       "      <th></th>\n",
       "      <th>id_client</th>\n",
       "      <th>amt_pay</th>\n",
       "    </tr>\n",
       "  </thead>\n",
       "  <tbody>\n",
       "    <tr>\n",
       "      <th>2</th>\n",
       "      <td>18785</td>\n",
       "      <td>8185</td>\n",
       "    </tr>\n",
       "    <tr>\n",
       "      <th>4</th>\n",
       "      <td>18818</td>\n",
       "      <td>3377</td>\n",
       "    </tr>\n",
       "    <tr>\n",
       "      <th>5</th>\n",
       "      <td>18662</td>\n",
       "      <td>1650</td>\n",
       "    </tr>\n",
       "    <tr>\n",
       "      <th>7</th>\n",
       "      <td>18619</td>\n",
       "      <td>8621</td>\n",
       "    </tr>\n",
       "    <tr>\n",
       "      <th>9</th>\n",
       "      <td>18792</td>\n",
       "      <td>5549</td>\n",
       "    </tr>\n",
       "  </tbody>\n",
       "</table>\n",
       "</div>"
      ],
      "text/plain": [
       "   id_client  amt_pay\n",
       "2      18785     8185\n",
       "4      18818     3377\n",
       "5      18662     1650\n",
       "7      18619     8621\n",
       "9      18792     5549"
      ]
     },
     "execution_count": 16,
     "metadata": {},
     "output_type": "execute_result"
    }
   ],
   "source": [
    "df_android = df.loc[df['type'] == 'android', ['id_client', 'amt_pay']]\n",
    "df_android.head(5)"
   ]
  },
  {
   "cell_type": "code",
   "execution_count": 17,
   "id": "f43b9a2f",
   "metadata": {},
   "outputs": [
    {
     "name": "stdout",
     "output_type": "stream",
     "text": [
      "IOS \t среднее 4589.92,\n",
      "\t сигма 2218.09\n",
      "\n",
      "PC \t среднее 3250.32,\n",
      "\t сигма 1684.22\n",
      "\n",
      "Android среднее 3996.07,\n",
      "\t сигма 2203.32\n",
      "\n"
     ]
    }
   ],
   "source": [
    "# Для DataFrame с данными от устройств на Ios\n",
    "m_df_ios = df_ios['amt_pay'].mean()    # Вычисление среднего значения\n",
    "s_df_ios = df_ios['amt_pay'].std()     # Вычисление стандартного отклонения - сигма\n",
    "print(f'IOS \\t среднее {round(m_df_ios, 2)},\\n\\t сигма {round(s_df_ios, 2)}\\n')\n",
    "\n",
    "# Для DataFrame с данными от устройств на PC\n",
    "m_df_pc = df_pc['amt_pay'].mean()    # Вычисление среднего значения\n",
    "s_df_pc = df_pc['amt_pay'].std()     # Вычисление стандартного отклонения - сигма\n",
    "print(f'PC \\t среднее {round(m_df_pc, 2)},\\n\\t сигма {round(s_df_pc, 2)}\\n')\n",
    "\n",
    "# Для DataFrame с данными от устройств на Android\n",
    "m_df_android = df_android['amt_pay'].mean()    # Вычисление среднего значения\n",
    "s_df_android = df_android['amt_pay'].std()     # Вычисление стандартного отклонения - сигма\n",
    "print(f'Android среднее {round(m_df_android, 2)},\\n\\t сигма {round(s_df_android, 2)}\\n')"
   ]
  },
  {
   "cell_type": "code",
   "execution_count": 18,
   "id": "99ec9312",
   "metadata": {},
   "outputs": [],
   "source": [
    "def if_normally_distributed(df: pd.DataFrame, col: str, view_info=False) -> bool:\n",
    "    \"\"\"\n",
    "    Проверяет соответствие выборки условию нормального распределения,  если соответствует трем сигма то возвращает True\n",
    "    \"\"\"\n",
    "    req_div_1sigma = 0.68\n",
    "    req_div_2sigma = 0.95\n",
    "    req_div_3sigma = 0.97\n",
    "    \n",
    "    m = df[col].mean()\n",
    "    s = df[col].std()\n",
    "    \n",
    "    df_1sigma = df[(df[col] >= m - s)     & (df[col] <= m + s)]\n",
    "    df_2sigma = df[(df[col] >= m - 2 * s) & (df[col] <= m + 2 * s)]\n",
    "    df_3sigma = df[(df[col] >= m - 3 * s) & (df[col] <= m + 3 * s)]\n",
    "    \n",
    "    act_div_1sigma = df_1sigma[col].count() / len(df)\n",
    "    act_div_2sigma = df_2sigma[col].count() / len(df)\n",
    "    act_div_3sigma = df_3sigma[col].count() / len(df)\n",
    "    \n",
    "    if view_info:\n",
    "        print(f'1 sigma:\\nДоля выборки фактическая {round(act_div_1sigma, 2)}\\nДоля выборки при нормальном распределении {req_div_1sigma}\\n')\n",
    "        print(f'2 sigma:\\nДоля выборки фактическая {round(act_div_2sigma, 2)}\\nДоля выборки при нормальном распределении {req_div_2sigma}\\n')\n",
    "        print(f'3 sigma:\\nДоля выборки фактическая {round(act_div_3sigma, 2)}\\nДоля выборки при нормальном распределении {req_div_3sigma}\\n')\n",
    "    \n",
    "    if_s1 = True if act_div_1sigma >= req_div_1sigma else False\n",
    "    if_s2 = True if act_div_2sigma >= req_div_2sigma else False\n",
    "    if_s3 = True if act_div_3sigma >= req_div_3sigma else False\n",
    "    \n",
    "    return if_s1 and if_s2 and if_s3"
   ]
  },
  {
   "cell_type": "code",
   "execution_count": 19,
   "id": "678605a1",
   "metadata": {},
   "outputs": [
    {
     "name": "stdout",
     "output_type": "stream",
     "text": [
      "1 sigma:\n",
      "Доля выборки фактическая 0.63\n",
      "Доля выборки при нормальном распределении 0.68\n",
      "\n",
      "2 sigma:\n",
      "Доля выборки фактическая 0.99\n",
      "Доля выборки при нормальном распределении 0.95\n",
      "\n",
      "3 sigma:\n",
      "Доля выборки фактическая 1.0\n",
      "Доля выборки при нормальном распределении 0.97\n",
      "\n"
     ]
    },
    {
     "data": {
      "text/plain": [
       "False"
      ]
     },
     "execution_count": 19,
     "metadata": {},
     "output_type": "execute_result"
    }
   ],
   "source": [
    "if_normally_distributed(df_ios, 'amt_pay', True)"
   ]
  },
  {
   "cell_type": "code",
   "execution_count": 20,
   "id": "5993d782",
   "metadata": {},
   "outputs": [
    {
     "name": "stdout",
     "output_type": "stream",
     "text": [
      "1 sigma:\n",
      "Доля выборки фактическая 0.67\n",
      "Доля выборки при нормальном распределении 0.68\n",
      "\n",
      "2 sigma:\n",
      "Доля выборки фактическая 0.97\n",
      "Доля выборки при нормальном распределении 0.95\n",
      "\n",
      "3 sigma:\n",
      "Доля выборки фактическая 0.98\n",
      "Доля выборки при нормальном распределении 0.97\n",
      "\n"
     ]
    },
    {
     "data": {
      "text/plain": [
       "False"
      ]
     },
     "execution_count": 20,
     "metadata": {},
     "output_type": "execute_result"
    }
   ],
   "source": [
    "if_normally_distributed(df_pc, 'amt_pay', True)"
   ]
  },
  {
   "cell_type": "code",
   "execution_count": 21,
   "id": "166ed921",
   "metadata": {},
   "outputs": [
    {
     "name": "stdout",
     "output_type": "stream",
     "text": [
      "1 sigma:\n",
      "Доля выборки фактическая 0.63\n",
      "Доля выборки при нормальном распределении 0.68\n",
      "\n",
      "2 sigma:\n",
      "Доля выборки фактическая 0.98\n",
      "Доля выборки при нормальном распределении 0.95\n",
      "\n",
      "3 sigma:\n",
      "Доля выборки фактическая 1.0\n",
      "Доля выборки при нормальном распределении 0.97\n",
      "\n"
     ]
    },
    {
     "data": {
      "text/plain": [
       "False"
      ]
     },
     "execution_count": 21,
     "metadata": {},
     "output_type": "execute_result"
    }
   ],
   "source": [
    "if_normally_distributed(df_android, 'amt_pay', True)"
   ]
  },
  {
   "cell_type": "markdown",
   "id": "e9f5dd5c",
   "metadata": {},
   "source": [
    "**Вывод:** ни одно из распределение из таблиц не является истинным нормальным распределением удовлетворяющим условию трех сигм, однако самый близкий к нормальному распределению оказался DataFrame с устройств на базе PC"
   ]
  },
  {
   "cell_type": "code",
   "execution_count": 22,
   "id": "79e49550",
   "metadata": {},
   "outputs": [
    {
     "data": {
      "image/png": "[encoded data removed]",
      "text/plain": [
       "<Figure size 1500x300 with 3 Axes>"
      ]
     },
     "metadata": {},
     "output_type": "display_data"
    }
   ],
   "source": [
    "fig, axs = plt.subplots(1, 3, figsize=(15, 3))\n",
    "\n",
    "sns.histplot(ax=axs[0], data=df_ios, x='amt_pay')\n",
    "sns.histplot(ax=axs[1], data=df_pc, x='amt_pay')\n",
    "sns.histplot(ax=axs[2], data=df_android, x='amt_pay')\n",
    "\n",
    "axs[0].set_title('IOS')\n",
    "axs[1].set_title('PC')\n",
    "axs[2].set_title('Android')\n",
    "\n",
    "plt.show()"
   ]
  },
  {
   "cell_type": "markdown",
   "id": "14770f9b",
   "metadata": {},
   "source": [
    "# Задание 4. Создайте датафрейм df_res со структурой\n",
    "\n",
    "Создайте датафрейм df_res со следующей структурой:\n",
    "\n",
    "Каждая строка показывает свой тип устройства (итого 3 строки).\n",
    "\n",
    "Колонки:\n",
    "\n",
    "- Тип устройства  \n",
    "- Процент выборки внутри среднее плюс-минус одна сигма (1sigma)  \n",
    "- Процент выборки внутри среднее плюс-минус две сигмы (2sigma)  \n",
    "- Процент выборки внутри среднее плюс-минус три сигмы (3sigma)  \n",
    "- Разница по сравнению с соответствующим показателем нормального распределения - 68% (diff1sigma)  \n",
    "- Разница по сравнению с соответствующим показателем нормального распределения - 95% (diff2sigma)  \n",
    "- Разница по сравнению с соответствующим показателем нормального распределения - 99.7% (diff3sigma)  "
   ]
  },
  {
   "cell_type": "code",
   "execution_count": 23,
   "id": "9890ef44",
   "metadata": {},
   "outputs": [
    {
     "data": {
      "text/html": [
       "<div>\n",
       "<style scoped>\n",
       "    .dataframe tbody tr th:only-of-type {\n",
       "        vertical-align: middle;\n",
       "    }\n",
       "\n",
       "    .dataframe tbody tr th {\n",
       "        vertical-align: top;\n",
       "    }\n",
       "\n",
       "    .dataframe thead th {\n",
       "        text-align: right;\n",
       "    }\n",
       "</style>\n",
       "<table border=\"1\" class=\"dataframe\">\n",
       "  <thead>\n",
       "    <tr style=\"text-align: right;\">\n",
       "      <th></th>\n",
       "      <th>id_client</th>\n",
       "      <th>amt_pay</th>\n",
       "      <th>type</th>\n",
       "    </tr>\n",
       "  </thead>\n",
       "  <tbody>\n",
       "    <tr>\n",
       "      <th>0</th>\n",
       "      <td>18788</td>\n",
       "      <td>24</td>\n",
       "      <td>ios</td>\n",
       "    </tr>\n",
       "    <tr>\n",
       "      <th>1</th>\n",
       "      <td>19059</td>\n",
       "      <td>3743</td>\n",
       "      <td>ios</td>\n",
       "    </tr>\n",
       "    <tr>\n",
       "      <th>2</th>\n",
       "      <td>18785</td>\n",
       "      <td>8185</td>\n",
       "      <td>android</td>\n",
       "    </tr>\n",
       "    <tr>\n",
       "      <th>3</th>\n",
       "      <td>18795</td>\n",
       "      <td>2202</td>\n",
       "      <td>ios</td>\n",
       "    </tr>\n",
       "    <tr>\n",
       "      <th>4</th>\n",
       "      <td>18818</td>\n",
       "      <td>3377</td>\n",
       "      <td>android</td>\n",
       "    </tr>\n",
       "    <tr>\n",
       "      <th>...</th>\n",
       "      <td>...</td>\n",
       "      <td>...</td>\n",
       "      <td>...</td>\n",
       "    </tr>\n",
       "    <tr>\n",
       "      <th>774</th>\n",
       "      <td>18516</td>\n",
       "      <td>6736</td>\n",
       "      <td>ios</td>\n",
       "    </tr>\n",
       "    <tr>\n",
       "      <th>775</th>\n",
       "      <td>18826</td>\n",
       "      <td>5079</td>\n",
       "      <td>android</td>\n",
       "    </tr>\n",
       "    <tr>\n",
       "      <th>776</th>\n",
       "      <td>18462</td>\n",
       "      <td>6172</td>\n",
       "      <td>android</td>\n",
       "    </tr>\n",
       "    <tr>\n",
       "      <th>777</th>\n",
       "      <td>18694</td>\n",
       "      <td>7619</td>\n",
       "      <td>ios</td>\n",
       "    </tr>\n",
       "    <tr>\n",
       "      <th>778</th>\n",
       "      <td>18713</td>\n",
       "      <td>3386</td>\n",
       "      <td>ios</td>\n",
       "    </tr>\n",
       "  </tbody>\n",
       "</table>\n",
       "<p>779 rows × 3 columns</p>\n",
       "</div>"
      ],
      "text/plain": [
       "     id_client  amt_pay     type\n",
       "0        18788       24      ios\n",
       "1        19059     3743      ios\n",
       "2        18785     8185  android\n",
       "3        18795     2202      ios\n",
       "4        18818     3377  android\n",
       "..         ...      ...      ...\n",
       "774      18516     6736      ios\n",
       "775      18826     5079  android\n",
       "776      18462     6172  android\n",
       "777      18694     7619      ios\n",
       "778      18713     3386      ios\n",
       "\n",
       "[779 rows x 3 columns]"
      ]
     },
     "execution_count": 23,
     "metadata": {},
     "output_type": "execute_result"
    }
   ],
   "source": [
    "df"
   ]
  },
  {
   "cell_type": "code",
   "execution_count": 24,
   "id": "c19cd130",
   "metadata": {},
   "outputs": [
    {
     "data": {
      "text/html": [
       "<div>\n",
       "<style scoped>\n",
       "    .dataframe tbody tr th:only-of-type {\n",
       "        vertical-align: middle;\n",
       "    }\n",
       "\n",
       "    .dataframe tbody tr th {\n",
       "        vertical-align: top;\n",
       "    }\n",
       "\n",
       "    .dataframe thead th {\n",
       "        text-align: right;\n",
       "    }\n",
       "</style>\n",
       "<table border=\"1\" class=\"dataframe\">\n",
       "  <thead>\n",
       "    <tr style=\"text-align: right;\">\n",
       "      <th></th>\n",
       "      <th>type</th>\n",
       "    </tr>\n",
       "  </thead>\n",
       "  <tbody>\n",
       "    <tr>\n",
       "      <th>0</th>\n",
       "      <td>android</td>\n",
       "    </tr>\n",
       "    <tr>\n",
       "      <th>1</th>\n",
       "      <td>ios</td>\n",
       "    </tr>\n",
       "    <tr>\n",
       "      <th>2</th>\n",
       "      <td>PC</td>\n",
       "    </tr>\n",
       "  </tbody>\n",
       "</table>\n",
       "</div>"
      ],
      "text/plain": [
       "      type\n",
       "0  android\n",
       "1      ios\n",
       "2       PC"
      ]
     },
     "execution_count": 24,
     "metadata": {},
     "output_type": "execute_result"
    }
   ],
   "source": [
    "# 1. Создаем датафрейм df_res\n",
    "# 2. добавляем колонку: Тип устройства\n",
    "\n",
    "df_res = pd.DataFrame({\n",
    "    'type': list(set(df['type']))\n",
    "})\n",
    "\n",
    "df_res"
   ]
  },
  {
   "cell_type": "code",
   "execution_count": 25,
   "id": "dbb6e87d",
   "metadata": {},
   "outputs": [
    {
     "data": {
      "text/html": [
       "<div>\n",
       "<style scoped>\n",
       "    .dataframe tbody tr th:only-of-type {\n",
       "        vertical-align: middle;\n",
       "    }\n",
       "\n",
       "    .dataframe tbody tr th {\n",
       "        vertical-align: top;\n",
       "    }\n",
       "\n",
       "    .dataframe thead th {\n",
       "        text-align: right;\n",
       "    }\n",
       "</style>\n",
       "<table border=\"1\" class=\"dataframe\">\n",
       "  <thead>\n",
       "    <tr style=\"text-align: right;\">\n",
       "      <th></th>\n",
       "      <th>type</th>\n",
       "      <th>1sigma</th>\n",
       "    </tr>\n",
       "  </thead>\n",
       "  <tbody>\n",
       "    <tr>\n",
       "      <th>0</th>\n",
       "      <td>android</td>\n",
       "      <td>62.992126</td>\n",
       "    </tr>\n",
       "    <tr>\n",
       "      <th>1</th>\n",
       "      <td>ios</td>\n",
       "      <td>62.867647</td>\n",
       "    </tr>\n",
       "    <tr>\n",
       "      <th>2</th>\n",
       "      <td>PC</td>\n",
       "      <td>66.798419</td>\n",
       "    </tr>\n",
       "  </tbody>\n",
       "</table>\n",
       "</div>"
      ],
      "text/plain": [
       "      type     1sigma\n",
       "0  android  62.992126\n",
       "1      ios  62.867647\n",
       "2       PC  66.798419"
      ]
     },
     "execution_count": 25,
     "metadata": {},
     "output_type": "execute_result"
    }
   ],
   "source": [
    "# 3. добавляем колонку: Процент выборки внутри среднее плюс-минус одна сигма (1sigma)\n",
    "\n",
    "one_sigma = []\n",
    "\n",
    "for tp in df_res['type']:\n",
    "    df_work = df[df['type'] == tp]\n",
    "    \n",
    "    m = df_work['amt_pay'].mean()\n",
    "    s = df_work['amt_pay'].std()\n",
    "    \n",
    "    df_1sigma = df_work[(df_work['amt_pay'] >= m - s) & (df_work['amt_pay'] <= m + s)]\n",
    "    act_div_1sigma = df_1sigma['amt_pay'].count() / len(df_work)\n",
    "    \n",
    "    one_sigma.append(act_div_1sigma * 100)\n",
    "    \n",
    "df_res['1sigma'] = one_sigma\n",
    "df_res"
   ]
  },
  {
   "cell_type": "code",
   "execution_count": 26,
   "id": "78ada034",
   "metadata": {},
   "outputs": [
    {
     "data": {
      "text/html": [
       "<div>\n",
       "<style scoped>\n",
       "    .dataframe tbody tr th:only-of-type {\n",
       "        vertical-align: middle;\n",
       "    }\n",
       "\n",
       "    .dataframe tbody tr th {\n",
       "        vertical-align: top;\n",
       "    }\n",
       "\n",
       "    .dataframe thead th {\n",
       "        text-align: right;\n",
       "    }\n",
       "</style>\n",
       "<table border=\"1\" class=\"dataframe\">\n",
       "  <thead>\n",
       "    <tr style=\"text-align: right;\">\n",
       "      <th></th>\n",
       "      <th>type</th>\n",
       "      <th>1sigma</th>\n",
       "      <th>2sigma</th>\n",
       "    </tr>\n",
       "  </thead>\n",
       "  <tbody>\n",
       "    <tr>\n",
       "      <th>0</th>\n",
       "      <td>android</td>\n",
       "      <td>62.992126</td>\n",
       "      <td>98.031496</td>\n",
       "    </tr>\n",
       "    <tr>\n",
       "      <th>1</th>\n",
       "      <td>ios</td>\n",
       "      <td>62.867647</td>\n",
       "      <td>98.897059</td>\n",
       "    </tr>\n",
       "    <tr>\n",
       "      <th>2</th>\n",
       "      <td>PC</td>\n",
       "      <td>66.798419</td>\n",
       "      <td>97.233202</td>\n",
       "    </tr>\n",
       "  </tbody>\n",
       "</table>\n",
       "</div>"
      ],
      "text/plain": [
       "      type     1sigma     2sigma\n",
       "0  android  62.992126  98.031496\n",
       "1      ios  62.867647  98.897059\n",
       "2       PC  66.798419  97.233202"
      ]
     },
     "execution_count": 26,
     "metadata": {},
     "output_type": "execute_result"
    }
   ],
   "source": [
    "# 4. добавляем колонку: Процент выборки внутри среднее плюс-минус две сигмы (2sigma)\n",
    "\n",
    "two_sigma = []\n",
    "\n",
    "for tp in df_res['type']:\n",
    "    df_work = df[df['type'] == tp]\n",
    "    \n",
    "    m = df_work['amt_pay'].mean()\n",
    "    s = df_work['amt_pay'].std()\n",
    "    \n",
    "    df_2sigma = df_work[(df_work['amt_pay'] >= m - 2 * s) & (df_work['amt_pay'] <= m + 2 * s)]\n",
    "    act_div_2sigma = df_2sigma['amt_pay'].count() / len(df_work)\n",
    "    \n",
    "    two_sigma.append(act_div_2sigma * 100)\n",
    "    \n",
    "df_res['2sigma'] = two_sigma\n",
    "df_res"
   ]
  },
  {
   "cell_type": "code",
   "execution_count": 27,
   "id": "b6a25d4e",
   "metadata": {},
   "outputs": [
    {
     "data": {
      "text/html": [
       "<div>\n",
       "<style scoped>\n",
       "    .dataframe tbody tr th:only-of-type {\n",
       "        vertical-align: middle;\n",
       "    }\n",
       "\n",
       "    .dataframe tbody tr th {\n",
       "        vertical-align: top;\n",
       "    }\n",
       "\n",
       "    .dataframe thead th {\n",
       "        text-align: right;\n",
       "    }\n",
       "</style>\n",
       "<table border=\"1\" class=\"dataframe\">\n",
       "  <thead>\n",
       "    <tr style=\"text-align: right;\">\n",
       "      <th></th>\n",
       "      <th>type</th>\n",
       "      <th>1sigma</th>\n",
       "      <th>2sigma</th>\n",
       "      <th>3sigma</th>\n",
       "    </tr>\n",
       "  </thead>\n",
       "  <tbody>\n",
       "    <tr>\n",
       "      <th>0</th>\n",
       "      <td>android</td>\n",
       "      <td>62.992126</td>\n",
       "      <td>98.031496</td>\n",
       "      <td>100.000000</td>\n",
       "    </tr>\n",
       "    <tr>\n",
       "      <th>1</th>\n",
       "      <td>ios</td>\n",
       "      <td>62.867647</td>\n",
       "      <td>98.897059</td>\n",
       "      <td>100.000000</td>\n",
       "    </tr>\n",
       "    <tr>\n",
       "      <th>2</th>\n",
       "      <td>PC</td>\n",
       "      <td>66.798419</td>\n",
       "      <td>97.233202</td>\n",
       "      <td>98.023715</td>\n",
       "    </tr>\n",
       "  </tbody>\n",
       "</table>\n",
       "</div>"
      ],
      "text/plain": [
       "      type     1sigma     2sigma      3sigma\n",
       "0  android  62.992126  98.031496  100.000000\n",
       "1      ios  62.867647  98.897059  100.000000\n",
       "2       PC  66.798419  97.233202   98.023715"
      ]
     },
     "execution_count": 27,
     "metadata": {},
     "output_type": "execute_result"
    }
   ],
   "source": [
    "# 5. добавляем колонку: Процент выборки внутри среднее плюс-минус три сигмы (3sigma)\n",
    "\n",
    "three_sigma = []\n",
    "\n",
    "for tp in df_res['type']:\n",
    "    df_work = df[df['type'] == tp]\n",
    "    \n",
    "    m = df_work['amt_pay'].mean()\n",
    "    s = df_work['amt_pay'].std()\n",
    "    \n",
    "    df_3sigma = df_work[(df_work['amt_pay'] >= m - 3 * s) & (df_work['amt_pay'] <= m + 3 * s)]\n",
    "    act_div_3sigma = df_3sigma['amt_pay'].count() / len(df_work)\n",
    "    \n",
    "    three_sigma.append(act_div_3sigma * 100)\n",
    "    \n",
    "df_res['3sigma'] = three_sigma\n",
    "df_res"
   ]
  },
  {
   "cell_type": "code",
   "execution_count": 28,
   "id": "67324953",
   "metadata": {},
   "outputs": [
    {
     "data": {
      "text/html": [
       "<div>\n",
       "<style scoped>\n",
       "    .dataframe tbody tr th:only-of-type {\n",
       "        vertical-align: middle;\n",
       "    }\n",
       "\n",
       "    .dataframe tbody tr th {\n",
       "        vertical-align: top;\n",
       "    }\n",
       "\n",
       "    .dataframe thead th {\n",
       "        text-align: right;\n",
       "    }\n",
       "</style>\n",
       "<table border=\"1\" class=\"dataframe\">\n",
       "  <thead>\n",
       "    <tr style=\"text-align: right;\">\n",
       "      <th></th>\n",
       "      <th>type</th>\n",
       "      <th>1sigma</th>\n",
       "      <th>2sigma</th>\n",
       "      <th>3sigma</th>\n",
       "      <th>diff1sigma</th>\n",
       "    </tr>\n",
       "  </thead>\n",
       "  <tbody>\n",
       "    <tr>\n",
       "      <th>0</th>\n",
       "      <td>android</td>\n",
       "      <td>62.992126</td>\n",
       "      <td>98.031496</td>\n",
       "      <td>100.000000</td>\n",
       "      <td>5.007874</td>\n",
       "    </tr>\n",
       "    <tr>\n",
       "      <th>1</th>\n",
       "      <td>ios</td>\n",
       "      <td>62.867647</td>\n",
       "      <td>98.897059</td>\n",
       "      <td>100.000000</td>\n",
       "      <td>5.132353</td>\n",
       "    </tr>\n",
       "    <tr>\n",
       "      <th>2</th>\n",
       "      <td>PC</td>\n",
       "      <td>66.798419</td>\n",
       "      <td>97.233202</td>\n",
       "      <td>98.023715</td>\n",
       "      <td>1.201581</td>\n",
       "    </tr>\n",
       "  </tbody>\n",
       "</table>\n",
       "</div>"
      ],
      "text/plain": [
       "      type     1sigma     2sigma      3sigma  diff1sigma\n",
       "0  android  62.992126  98.031496  100.000000    5.007874\n",
       "1      ios  62.867647  98.897059  100.000000    5.132353\n",
       "2       PC  66.798419  97.233202   98.023715    1.201581"
      ]
     },
     "execution_count": 28,
     "metadata": {},
     "output_type": "execute_result"
    }
   ],
   "source": [
    "# 6. добавляем колонку: Разница по сравнению с соответствующим показателем нормального распределения - 68% (diff1sigma)\n",
    "\n",
    "df_res['diff1sigma'] = 68 - df_res['1sigma']\n",
    "df_res"
   ]
  },
  {
   "cell_type": "code",
   "execution_count": 29,
   "id": "637d4e19",
   "metadata": {},
   "outputs": [
    {
     "data": {
      "text/html": [
       "<div>\n",
       "<style scoped>\n",
       "    .dataframe tbody tr th:only-of-type {\n",
       "        vertical-align: middle;\n",
       "    }\n",
       "\n",
       "    .dataframe tbody tr th {\n",
       "        vertical-align: top;\n",
       "    }\n",
       "\n",
       "    .dataframe thead th {\n",
       "        text-align: right;\n",
       "    }\n",
       "</style>\n",
       "<table border=\"1\" class=\"dataframe\">\n",
       "  <thead>\n",
       "    <tr style=\"text-align: right;\">\n",
       "      <th></th>\n",
       "      <th>type</th>\n",
       "      <th>1sigma</th>\n",
       "      <th>2sigma</th>\n",
       "      <th>3sigma</th>\n",
       "      <th>diff1sigma</th>\n",
       "      <th>diff2sigma</th>\n",
       "    </tr>\n",
       "  </thead>\n",
       "  <tbody>\n",
       "    <tr>\n",
       "      <th>0</th>\n",
       "      <td>android</td>\n",
       "      <td>62.992126</td>\n",
       "      <td>98.031496</td>\n",
       "      <td>100.000000</td>\n",
       "      <td>5.007874</td>\n",
       "      <td>-3.031496</td>\n",
       "    </tr>\n",
       "    <tr>\n",
       "      <th>1</th>\n",
       "      <td>ios</td>\n",
       "      <td>62.867647</td>\n",
       "      <td>98.897059</td>\n",
       "      <td>100.000000</td>\n",
       "      <td>5.132353</td>\n",
       "      <td>-3.897059</td>\n",
       "    </tr>\n",
       "    <tr>\n",
       "      <th>2</th>\n",
       "      <td>PC</td>\n",
       "      <td>66.798419</td>\n",
       "      <td>97.233202</td>\n",
       "      <td>98.023715</td>\n",
       "      <td>1.201581</td>\n",
       "      <td>-2.233202</td>\n",
       "    </tr>\n",
       "  </tbody>\n",
       "</table>\n",
       "</div>"
      ],
      "text/plain": [
       "      type     1sigma     2sigma      3sigma  diff1sigma  diff2sigma\n",
       "0  android  62.992126  98.031496  100.000000    5.007874   -3.031496\n",
       "1      ios  62.867647  98.897059  100.000000    5.132353   -3.897059\n",
       "2       PC  66.798419  97.233202   98.023715    1.201581   -2.233202"
      ]
     },
     "execution_count": 29,
     "metadata": {},
     "output_type": "execute_result"
    }
   ],
   "source": [
    "# 7. добавляем колонку: Разница по сравнению с соответствующим показателем нормального распределения - 95% (diff2sigma)\n",
    "\n",
    "df_res['diff2sigma'] = 95 - df_res['2sigma']\n",
    "df_res"
   ]
  },
  {
   "cell_type": "code",
   "execution_count": 30,
   "id": "7a828df7",
   "metadata": {},
   "outputs": [
    {
     "data": {
      "text/html": [
       "<div>\n",
       "<style scoped>\n",
       "    .dataframe tbody tr th:only-of-type {\n",
       "        vertical-align: middle;\n",
       "    }\n",
       "\n",
       "    .dataframe tbody tr th {\n",
       "        vertical-align: top;\n",
       "    }\n",
       "\n",
       "    .dataframe thead th {\n",
       "        text-align: right;\n",
       "    }\n",
       "</style>\n",
       "<table border=\"1\" class=\"dataframe\">\n",
       "  <thead>\n",
       "    <tr style=\"text-align: right;\">\n",
       "      <th></th>\n",
       "      <th>type</th>\n",
       "      <th>1sigma</th>\n",
       "      <th>2sigma</th>\n",
       "      <th>3sigma</th>\n",
       "      <th>diff1sigma</th>\n",
       "      <th>diff2sigma</th>\n",
       "      <th>diff3sigma</th>\n",
       "    </tr>\n",
       "  </thead>\n",
       "  <tbody>\n",
       "    <tr>\n",
       "      <th>0</th>\n",
       "      <td>android</td>\n",
       "      <td>62.992126</td>\n",
       "      <td>98.031496</td>\n",
       "      <td>100.000000</td>\n",
       "      <td>5.007874</td>\n",
       "      <td>-3.031496</td>\n",
       "      <td>-0.300000</td>\n",
       "    </tr>\n",
       "    <tr>\n",
       "      <th>1</th>\n",
       "      <td>ios</td>\n",
       "      <td>62.867647</td>\n",
       "      <td>98.897059</td>\n",
       "      <td>100.000000</td>\n",
       "      <td>5.132353</td>\n",
       "      <td>-3.897059</td>\n",
       "      <td>-0.300000</td>\n",
       "    </tr>\n",
       "    <tr>\n",
       "      <th>2</th>\n",
       "      <td>PC</td>\n",
       "      <td>66.798419</td>\n",
       "      <td>97.233202</td>\n",
       "      <td>98.023715</td>\n",
       "      <td>1.201581</td>\n",
       "      <td>-2.233202</td>\n",
       "      <td>1.676285</td>\n",
       "    </tr>\n",
       "  </tbody>\n",
       "</table>\n",
       "</div>"
      ],
      "text/plain": [
       "      type     1sigma     2sigma      3sigma  diff1sigma  diff2sigma  \\\n",
       "0  android  62.992126  98.031496  100.000000    5.007874   -3.031496   \n",
       "1      ios  62.867647  98.897059  100.000000    5.132353   -3.897059   \n",
       "2       PC  66.798419  97.233202   98.023715    1.201581   -2.233202   \n",
       "\n",
       "   diff3sigma  \n",
       "0   -0.300000  \n",
       "1   -0.300000  \n",
       "2    1.676285  "
      ]
     },
     "execution_count": 30,
     "metadata": {},
     "output_type": "execute_result"
    }
   ],
   "source": [
    "# 8. добавляем колонку: Разница по сравнению с соответствующим показателем нормального распределения - 99.7% (diff3sigma\n",
    "\n",
    "df_res['diff3sigma'] = 99.7 - df_res['3sigma']\n",
    "df_res"
   ]
  },
  {
   "cell_type": "markdown",
   "id": "bc732d90",
   "metadata": {},
   "source": [
    "**Ответ:**"
   ]
  },
  {
   "cell_type": "code",
   "execution_count": 31,
   "id": "3175e57a",
   "metadata": {},
   "outputs": [
    {
     "data": {
      "text/html": [
       "<div>\n",
       "<style scoped>\n",
       "    .dataframe tbody tr th:only-of-type {\n",
       "        vertical-align: middle;\n",
       "    }\n",
       "\n",
       "    .dataframe tbody tr th {\n",
       "        vertical-align: top;\n",
       "    }\n",
       "\n",
       "    .dataframe thead th {\n",
       "        text-align: right;\n",
       "    }\n",
       "</style>\n",
       "<table border=\"1\" class=\"dataframe\">\n",
       "  <thead>\n",
       "    <tr style=\"text-align: right;\">\n",
       "      <th></th>\n",
       "      <th>type</th>\n",
       "      <th>1sigma</th>\n",
       "      <th>2sigma</th>\n",
       "      <th>3sigma</th>\n",
       "      <th>diff1sigma</th>\n",
       "      <th>diff2sigma</th>\n",
       "      <th>diff3sigma</th>\n",
       "    </tr>\n",
       "  </thead>\n",
       "  <tbody>\n",
       "    <tr>\n",
       "      <th>0</th>\n",
       "      <td>android</td>\n",
       "      <td>62.992126</td>\n",
       "      <td>98.031496</td>\n",
       "      <td>100.000000</td>\n",
       "      <td>5.007874</td>\n",
       "      <td>-3.031496</td>\n",
       "      <td>-0.300000</td>\n",
       "    </tr>\n",
       "    <tr>\n",
       "      <th>1</th>\n",
       "      <td>ios</td>\n",
       "      <td>62.867647</td>\n",
       "      <td>98.897059</td>\n",
       "      <td>100.000000</td>\n",
       "      <td>5.132353</td>\n",
       "      <td>-3.897059</td>\n",
       "      <td>-0.300000</td>\n",
       "    </tr>\n",
       "    <tr>\n",
       "      <th>2</th>\n",
       "      <td>PC</td>\n",
       "      <td>66.798419</td>\n",
       "      <td>97.233202</td>\n",
       "      <td>98.023715</td>\n",
       "      <td>1.201581</td>\n",
       "      <td>-2.233202</td>\n",
       "      <td>1.676285</td>\n",
       "    </tr>\n",
       "  </tbody>\n",
       "</table>\n",
       "</div>"
      ],
      "text/plain": [
       "      type     1sigma     2sigma      3sigma  diff1sigma  diff2sigma  \\\n",
       "0  android  62.992126  98.031496  100.000000    5.007874   -3.031496   \n",
       "1      ios  62.867647  98.897059  100.000000    5.132353   -3.897059   \n",
       "2       PC  66.798419  97.233202   98.023715    1.201581   -2.233202   \n",
       "\n",
       "   diff3sigma  \n",
       "0   -0.300000  \n",
       "1   -0.300000  \n",
       "2    1.676285  "
      ]
     },
     "execution_count": 31,
     "metadata": {},
     "output_type": "execute_result"
    }
   ],
   "source": [
    "df_res"
   ]
  },
  {
   "cell_type": "markdown",
   "id": "a838f51a",
   "metadata": {},
   "source": [
    "# **Задание со звездочкой**\n",
    "\n",
    "Что если типов устройства не 3, а 100?  \n",
    "Придумайте, как автоматизировать и масштабировать свои вычисления,  \n",
    "чтобы на выходе получался такой же датафрейм df_res, но с сотней строк.  \n",
    "\n",
    "Для этого вам может понадобиться создание функций и циклов."
   ]
  },
  {
   "cell_type": "code",
   "execution_count": 32,
   "id": "0a88972f",
   "metadata": {},
   "outputs": [],
   "source": [
    "def func(df: pd.DataFrame, group_by: str, column: str) -> pd.DataFrame:\n",
    "    '''Создает DataFrame с оценкой соответствия нормальному распределению исходного DataFrame'''\n",
    "    \n",
    "    df_r = pd.DataFrame({group_by: list(set(df[group_by]))})\n",
    "    sigma1 = []\n",
    "    sigma2 = []\n",
    "    sigma3 = []\n",
    "\n",
    "    for tp in df_r[group_by]:\n",
    "        df_work = df[df[group_by] == tp]\n",
    "    \n",
    "        m = df_work[column].mean()\n",
    "        s = df_work[column].std()\n",
    "    \n",
    "        df_1sigma = df_work[(df_work[column] >= m - s) & (df_work[column] <= m + s)]\n",
    "        df_2sigma = df_work[(df_work[column] >= m - 2 * s) & (df_work[column] <= m + 2 * s)]\n",
    "        df_3sigma = df_work[(df_work[column] >= m - 3 * s) & (df_work[column] <= m + 3 * s)]\n",
    "            \n",
    "        act_div_1sigma = df_1sigma[column].count() / len(df_work)\n",
    "        act_div_2sigma = df_2sigma[column].count() / len(df_work)\n",
    "        act_div_3sigma = df_3sigma[column].count() / len(df_work)\n",
    "    \n",
    "        sigma1.append(act_div_1sigma * 100)\n",
    "        sigma2.append(act_div_2sigma * 100)\n",
    "        sigma3.append(act_div_3sigma * 100)\n",
    "    \n",
    "    df_r['1sigma'] = sigma1\n",
    "    df_r['2sigma'] = sigma2\n",
    "    df_r['3sigma'] = sigma3\n",
    "    df_r['diff1sigma'] = 68 - df_res['1sigma']\n",
    "    df_r['diff2sigma'] = 95 - df_res['2sigma']\n",
    "    df_r['diff3sigma'] = 99.7 - df_res['3sigma']\n",
    "    \n",
    "    return df_r"
   ]
  },
  {
   "cell_type": "markdown",
   "id": "dea8c66f",
   "metadata": {},
   "source": [
    "**Проверка задания со звездочкой**"
   ]
  },
  {
   "cell_type": "code",
   "execution_count": 33,
   "id": "75f2c74d",
   "metadata": {},
   "outputs": [
    {
     "data": {
      "text/html": [
       "<div>\n",
       "<style scoped>\n",
       "    .dataframe tbody tr th:only-of-type {\n",
       "        vertical-align: middle;\n",
       "    }\n",
       "\n",
       "    .dataframe tbody tr th {\n",
       "        vertical-align: top;\n",
       "    }\n",
       "\n",
       "    .dataframe thead th {\n",
       "        text-align: right;\n",
       "    }\n",
       "</style>\n",
       "<table border=\"1\" class=\"dataframe\">\n",
       "  <thead>\n",
       "    <tr style=\"text-align: right;\">\n",
       "      <th></th>\n",
       "      <th>type</th>\n",
       "      <th>1sigma</th>\n",
       "      <th>2sigma</th>\n",
       "      <th>3sigma</th>\n",
       "      <th>diff1sigma</th>\n",
       "      <th>diff2sigma</th>\n",
       "      <th>diff3sigma</th>\n",
       "    </tr>\n",
       "  </thead>\n",
       "  <tbody>\n",
       "    <tr>\n",
       "      <th>0</th>\n",
       "      <td>android</td>\n",
       "      <td>62.992126</td>\n",
       "      <td>98.031496</td>\n",
       "      <td>100.000000</td>\n",
       "      <td>5.007874</td>\n",
       "      <td>-3.031496</td>\n",
       "      <td>-0.300000</td>\n",
       "    </tr>\n",
       "    <tr>\n",
       "      <th>1</th>\n",
       "      <td>ios</td>\n",
       "      <td>62.867647</td>\n",
       "      <td>98.897059</td>\n",
       "      <td>100.000000</td>\n",
       "      <td>5.132353</td>\n",
       "      <td>-3.897059</td>\n",
       "      <td>-0.300000</td>\n",
       "    </tr>\n",
       "    <tr>\n",
       "      <th>2</th>\n",
       "      <td>PC</td>\n",
       "      <td>66.798419</td>\n",
       "      <td>97.233202</td>\n",
       "      <td>98.023715</td>\n",
       "      <td>1.201581</td>\n",
       "      <td>-2.233202</td>\n",
       "      <td>1.676285</td>\n",
       "    </tr>\n",
       "  </tbody>\n",
       "</table>\n",
       "</div>"
      ],
      "text/plain": [
       "      type     1sigma     2sigma      3sigma  diff1sigma  diff2sigma  \\\n",
       "0  android  62.992126  98.031496  100.000000    5.007874   -3.031496   \n",
       "1      ios  62.867647  98.897059  100.000000    5.132353   -3.897059   \n",
       "2       PC  66.798419  97.233202   98.023715    1.201581   -2.233202   \n",
       "\n",
       "   diff3sigma  \n",
       "0   -0.300000  \n",
       "1   -0.300000  \n",
       "2    1.676285  "
      ]
     },
     "execution_count": 33,
     "metadata": {},
     "output_type": "execute_result"
    }
   ],
   "source": [
    "func(df, 'type', 'amt_pay')"
   ]
  },
  {
   "cell_type": "code",
   "execution_count": 34,
   "id": "7553a4ff",
   "metadata": {},
   "outputs": [
    {
     "data": {
      "text/html": [
       "<div>\n",
       "<style scoped>\n",
       "    .dataframe tbody tr th:only-of-type {\n",
       "        vertical-align: middle;\n",
       "    }\n",
       "\n",
       "    .dataframe tbody tr th {\n",
       "        vertical-align: top;\n",
       "    }\n",
       "\n",
       "    .dataframe thead th {\n",
       "        text-align: right;\n",
       "    }\n",
       "</style>\n",
       "<table border=\"1\" class=\"dataframe\">\n",
       "  <thead>\n",
       "    <tr style=\"text-align: right;\">\n",
       "      <th></th>\n",
       "      <th>type</th>\n",
       "      <th>1sigma</th>\n",
       "      <th>2sigma</th>\n",
       "      <th>3sigma</th>\n",
       "      <th>diff1sigma</th>\n",
       "      <th>diff2sigma</th>\n",
       "      <th>diff3sigma</th>\n",
       "    </tr>\n",
       "  </thead>\n",
       "  <tbody>\n",
       "    <tr>\n",
       "      <th>0</th>\n",
       "      <td>ios</td>\n",
       "      <td>62.867647</td>\n",
       "      <td>98.897059</td>\n",
       "      <td>100.000000</td>\n",
       "      <td>5.007874</td>\n",
       "      <td>-3.031496</td>\n",
       "      <td>-0.3</td>\n",
       "    </tr>\n",
       "    <tr>\n",
       "      <th>1</th>\n",
       "      <td>PC</td>\n",
       "      <td>66.798419</td>\n",
       "      <td>97.233202</td>\n",
       "      <td>98.023715</td>\n",
       "      <td>5.132353</td>\n",
       "      <td>-3.897059</td>\n",
       "      <td>-0.3</td>\n",
       "    </tr>\n",
       "  </tbody>\n",
       "</table>\n",
       "</div>"
      ],
      "text/plain": [
       "  type     1sigma     2sigma      3sigma  diff1sigma  diff2sigma  diff3sigma\n",
       "0  ios  62.867647  98.897059  100.000000    5.007874   -3.031496        -0.3\n",
       "1   PC  66.798419  97.233202   98.023715    5.132353   -3.897059        -0.3"
      ]
     },
     "execution_count": 34,
     "metadata": {},
     "output_type": "execute_result"
    }
   ],
   "source": [
    "func(df[(df['type'] == 'ios') | (df['type'] == 'PC')], 'type', 'amt_pay')"
   ]
  },
  {
   "cell_type": "code",
   "execution_count": 35,
   "id": "ed1ed3dc",
   "metadata": {},
   "outputs": [
    {
     "data": {
      "text/html": [
       "<div>\n",
       "<style scoped>\n",
       "    .dataframe tbody tr th:only-of-type {\n",
       "        vertical-align: middle;\n",
       "    }\n",
       "\n",
       "    .dataframe tbody tr th {\n",
       "        vertical-align: top;\n",
       "    }\n",
       "\n",
       "    .dataframe thead th {\n",
       "        text-align: right;\n",
       "    }\n",
       "</style>\n",
       "<table border=\"1\" class=\"dataframe\">\n",
       "  <thead>\n",
       "    <tr style=\"text-align: right;\">\n",
       "      <th></th>\n",
       "      <th>type</th>\n",
       "      <th>1sigma</th>\n",
       "      <th>2sigma</th>\n",
       "      <th>3sigma</th>\n",
       "      <th>diff1sigma</th>\n",
       "      <th>diff2sigma</th>\n",
       "      <th>diff3sigma</th>\n",
       "    </tr>\n",
       "  </thead>\n",
       "  <tbody>\n",
       "    <tr>\n",
       "      <th>0</th>\n",
       "      <td>ios</td>\n",
       "      <td>0.0</td>\n",
       "      <td>0.0</td>\n",
       "      <td>0.0</td>\n",
       "      <td>5.007874</td>\n",
       "      <td>-3.031496</td>\n",
       "      <td>-0.3</td>\n",
       "    </tr>\n",
       "  </tbody>\n",
       "</table>\n",
       "</div>"
      ],
      "text/plain": [
       "  type  1sigma  2sigma  3sigma  diff1sigma  diff2sigma  diff3sigma\n",
       "0  ios     0.0     0.0     0.0    5.007874   -3.031496        -0.3"
      ]
     },
     "execution_count": 35,
     "metadata": {},
     "output_type": "execute_result"
    }
   ],
   "source": [
    "func(df.iloc[[0]], 'type', 'amt_pay')"
   ]
  },
  {
   "cell_type": "code",
   "execution_count": 36,
   "id": "daaa059e",
   "metadata": {},
   "outputs": [
    {
     "data": {
      "text/html": [
       "<div>\n",
       "<style scoped>\n",
       "    .dataframe tbody tr th:only-of-type {\n",
       "        vertical-align: middle;\n",
       "    }\n",
       "\n",
       "    .dataframe tbody tr th {\n",
       "        vertical-align: top;\n",
       "    }\n",
       "\n",
       "    .dataframe thead th {\n",
       "        text-align: right;\n",
       "    }\n",
       "</style>\n",
       "<table border=\"1\" class=\"dataframe\">\n",
       "  <thead>\n",
       "    <tr style=\"text-align: right;\">\n",
       "      <th></th>\n",
       "      <th>type</th>\n",
       "      <th>1sigma</th>\n",
       "      <th>2sigma</th>\n",
       "      <th>3sigma</th>\n",
       "      <th>diff1sigma</th>\n",
       "      <th>diff2sigma</th>\n",
       "      <th>diff3sigma</th>\n",
       "    </tr>\n",
       "  </thead>\n",
       "  <tbody>\n",
       "    <tr>\n",
       "      <th>0</th>\n",
       "      <td>android</td>\n",
       "      <td>62.992126</td>\n",
       "      <td>98.031496</td>\n",
       "      <td>100.0</td>\n",
       "      <td>5.007874</td>\n",
       "      <td>-3.031496</td>\n",
       "      <td>-0.3</td>\n",
       "    </tr>\n",
       "    <tr>\n",
       "      <th>1</th>\n",
       "      <td>ios</td>\n",
       "      <td>62.867647</td>\n",
       "      <td>98.897059</td>\n",
       "      <td>100.0</td>\n",
       "      <td>5.132353</td>\n",
       "      <td>-3.897059</td>\n",
       "      <td>-0.3</td>\n",
       "    </tr>\n",
       "  </tbody>\n",
       "</table>\n",
       "</div>"
      ],
      "text/plain": [
       "      type     1sigma     2sigma  3sigma  diff1sigma  diff2sigma  diff3sigma\n",
       "0  android  62.992126  98.031496   100.0    5.007874   -3.031496        -0.3\n",
       "1      ios  62.867647  98.897059   100.0    5.132353   -3.897059        -0.3"
      ]
     },
     "execution_count": 36,
     "metadata": {},
     "output_type": "execute_result"
    }
   ],
   "source": [
    "func(df[df['type'].isin(['ios', 'android'])], 'type', 'amt_pay')"
   ]
  }
 ],
 "metadata": {
  "kernelspec": {
   "display_name": "Python 3 (ipykernel)",
   "language": "python",
   "name": "python3"
  },
  "language_info": {
   "codemirror_mode": {
    "name": "ipython",
    "version": 3
   },
   "file_extension": ".py",
   "mimetype": "text/x-python",
   "name": "python",
   "nbconvert_exporter": "python",
   "pygments_lexer": "ipython3",
   "version": "3.11.5"
  }
 },
 "nbformat": 4,
 "nbformat_minor": 5
}
