{
 "cells": [
  {
   "cell_type": "markdown",
   "id": "03faf1a7",
   "metadata": {},
   "source": [
    "# Продвинутые A/B тесты. Домашнее задание\n",
    "\n",
    "\n",
    "### Задание\n",
    "\n",
    "\n",
    "\n",
    "[Файл](https://s3-us-west-2.amazonaws.com/secure.notion-static.com/52fed7b1-6b20-4094-ba15-74ffc02e5306/Домашнее_задание_Бизнес-4_(исходник).csv) для работы над заданием\n",
    "\n",
    "\n",
    "Вы работаете аналитиком в быстрой доставке SkySamokat. Периодически клиентам рассылаются пуш-уведомления, в которых описывается специальное предложение недели. \n",
    "\n",
    "Перед вами список клиентов, которые получали эти пуш-уведомления. По результату рассылки они воспользовались или не воспользовались предложением (поле ***flag_conv***).\n",
    "\n",
    "Ваши коллеги из отдела маркетинга собираются запустить АБ Тест, в рамках которого они собираются проверить, не будет ли смс-сообщение более эффективным чем пуш-уведомление.\n",
    "\n",
    "К проектированию данного АБ Теста решили привлечь вас. Вам необходимо протестировать систему сплитования и рассчитать время, необходимое для расчета эксперимента.\n",
    "\n",
    "\n",
    "**Ход решения:**\n",
    "\n",
    "1. Исследуйте зависимость пользования предложением от идентификатора клиента. Видите ли вы какие-то закономерности?\n",
    "    - Подсказка\n",
    "        \n",
    "        Постройте график зависимости таргет-величины от последней цифры идентификатора клиента. Воспользуйтесь следующим кодом:\n",
    "        \n",
    "        `df['right_symbol'] = df['id_client'].astype(str).str[-1]`\n",
    "        \n",
    "2. Сделайте разбиение клиентов по группам (контроль и тест) в зависимости от остатка деления идентификатора на 10. Рассчитайте результаты АА-теста. Наблюдается ли разница?\n",
    "3. Сделайте разбиение клиентов по группам (контроль и тест) в зависимости от четности идентификатора (остатка от деления идентификатора на 2). Рассчитайте результаты АА-теста. Наблюдается ли разница?\n",
    "4. Сделайте разбиение клиентов по группам (контроль и тест) с помощью функции sample из библиотеки pandas. По аналогии с расчетом из лекции сделайте 1000 разбиений с помощью sample и рассчитайте статистическую значимость разниц. В скольких процентах случаев наблюдается статистически значимая разница между контролем и тестом в АА-тесте?\n",
    "    \n",
    "    **Задача со звездочкой**: проверьте, что это доля (случаев, в которых разница между группами есть) равна 5% на 95%-уровне значимости.\n",
    "     \n",
    "5. Рассчитайте, сколько наблюдений потребуется для проведения АБ Теста, при условии что MDE = 2 процентных пункта (предположите, что альфа и бета установлены на дефолтном уровне и что дисперсия выборки не изменится от воздействия В).\n",
    "\n",
    "\n",
    "***П.с.:*** Заимствуйте код из предыдущих заданий, это поможет решать задачу быстрее.\n"
   ]
  },
  {
   "cell_type": "markdown",
   "id": "fa5b87e4",
   "metadata": {},
   "source": [
    "---\n",
    "#### Импорт необходимых библиотек и исходных данных"
   ]
  },
  {
   "cell_type": "code",
   "execution_count": 1,
   "id": "b623a308",
   "metadata": {},
   "outputs": [],
   "source": [
    "# libs\n",
    "import pandas as pd\n",
    "import numpy as np\n",
    "from scipy import stats\n",
    "\n",
    "from matplotlib import pyplot as plt\n",
    "import seaborn as sns\n",
    "\n",
    "from binascii import crc32"
   ]
  },
  {
   "cell_type": "code",
   "execution_count": 2,
   "id": "d844025a",
   "metadata": {},
   "outputs": [
    {
     "data": {
      "text/html": [
       "<div>\n",
       "<style scoped>\n",
       "    .dataframe tbody tr th:only-of-type {\n",
       "        vertical-align: middle;\n",
       "    }\n",
       "\n",
       "    .dataframe tbody tr th {\n",
       "        vertical-align: top;\n",
       "    }\n",
       "\n",
       "    .dataframe thead th {\n",
       "        text-align: right;\n",
       "    }\n",
       "</style>\n",
       "<table border=\"1\" class=\"dataframe\">\n",
       "  <thead>\n",
       "    <tr style=\"text-align: right;\">\n",
       "      <th></th>\n",
       "      <th>id_client</th>\n",
       "      <th>flag_conv</th>\n",
       "    </tr>\n",
       "  </thead>\n",
       "  <tbody>\n",
       "    <tr>\n",
       "      <th>0</th>\n",
       "      <td>1345321</td>\n",
       "      <td>0</td>\n",
       "    </tr>\n",
       "    <tr>\n",
       "      <th>1</th>\n",
       "      <td>1345322</td>\n",
       "      <td>0</td>\n",
       "    </tr>\n",
       "    <tr>\n",
       "      <th>2</th>\n",
       "      <td>1345330</td>\n",
       "      <td>0</td>\n",
       "    </tr>\n",
       "    <tr>\n",
       "      <th>3</th>\n",
       "      <td>1345338</td>\n",
       "      <td>1</td>\n",
       "    </tr>\n",
       "    <tr>\n",
       "      <th>4</th>\n",
       "      <td>1345342</td>\n",
       "      <td>0</td>\n",
       "    </tr>\n",
       "  </tbody>\n",
       "</table>\n",
       "</div>"
      ],
      "text/plain": [
       "   id_client  flag_conv\n",
       "0    1345321          0\n",
       "1    1345322          0\n",
       "2    1345330          0\n",
       "3    1345338          1\n",
       "4    1345342          0"
      ]
     },
     "execution_count": 2,
     "metadata": {},
     "output_type": "execute_result"
    }
   ],
   "source": [
    "# dats\n",
    "f_name = 'Домашнее задание Бизнес-4 (исходник).csv'\n",
    "data = pd.read_csv(f_name, sep=';')\n",
    "data.head(5)"
   ]
  },
  {
   "cell_type": "markdown",
   "id": "d639ea75",
   "metadata": {},
   "source": [
    "### Решение:\n",
    "\n",
    "***1. Исследуйте зависимость пользования предложением от идентификатора клиента. Видите ли вы какие-то закономерности?***\n",
    "    - Подсказка\n",
    "        \n",
    "        Постройте график зависимости таргет-величины от последней цифры идентификатора клиента.  \n",
    "        Воспользуйтесь следующим кодом:\n",
    "        \n",
    "        `df['right_symbol'] = df['id_client'].astype(str).str[-1]`"
   ]
  },
  {
   "cell_type": "code",
   "execution_count": 3,
   "id": "5d0ee9ad",
   "metadata": {},
   "outputs": [
    {
     "data": {
      "text/html": [
       "<div>\n",
       "<style scoped>\n",
       "    .dataframe tbody tr th:only-of-type {\n",
       "        vertical-align: middle;\n",
       "    }\n",
       "\n",
       "    .dataframe tbody tr th {\n",
       "        vertical-align: top;\n",
       "    }\n",
       "\n",
       "    .dataframe thead th {\n",
       "        text-align: right;\n",
       "    }\n",
       "</style>\n",
       "<table border=\"1\" class=\"dataframe\">\n",
       "  <thead>\n",
       "    <tr style=\"text-align: right;\">\n",
       "      <th></th>\n",
       "      <th>id_client</th>\n",
       "      <th>flag_conv</th>\n",
       "      <th>right_symbol</th>\n",
       "    </tr>\n",
       "  </thead>\n",
       "  <tbody>\n",
       "    <tr>\n",
       "      <th>2652</th>\n",
       "      <td>1358470</td>\n",
       "      <td>1</td>\n",
       "      <td>0</td>\n",
       "    </tr>\n",
       "    <tr>\n",
       "      <th>1160</th>\n",
       "      <td>1350973</td>\n",
       "      <td>0</td>\n",
       "      <td>3</td>\n",
       "    </tr>\n",
       "    <tr>\n",
       "      <th>126</th>\n",
       "      <td>1345943</td>\n",
       "      <td>0</td>\n",
       "      <td>3</td>\n",
       "    </tr>\n",
       "    <tr>\n",
       "      <th>2373</th>\n",
       "      <td>1357056</td>\n",
       "      <td>0</td>\n",
       "      <td>6</td>\n",
       "    </tr>\n",
       "    <tr>\n",
       "      <th>1392</th>\n",
       "      <td>1352117</td>\n",
       "      <td>1</td>\n",
       "      <td>7</td>\n",
       "    </tr>\n",
       "    <tr>\n",
       "      <th>653</th>\n",
       "      <td>1348498</td>\n",
       "      <td>1</td>\n",
       "      <td>8</td>\n",
       "    </tr>\n",
       "    <tr>\n",
       "      <th>216</th>\n",
       "      <td>1346388</td>\n",
       "      <td>0</td>\n",
       "      <td>8</td>\n",
       "    </tr>\n",
       "    <tr>\n",
       "      <th>2720</th>\n",
       "      <td>1358818</td>\n",
       "      <td>0</td>\n",
       "      <td>8</td>\n",
       "    </tr>\n",
       "    <tr>\n",
       "      <th>1942</th>\n",
       "      <td>1354859</td>\n",
       "      <td>1</td>\n",
       "      <td>9</td>\n",
       "    </tr>\n",
       "    <tr>\n",
       "      <th>2491</th>\n",
       "      <td>1357629</td>\n",
       "      <td>1</td>\n",
       "      <td>9</td>\n",
       "    </tr>\n",
       "  </tbody>\n",
       "</table>\n",
       "</div>"
      ],
      "text/plain": [
       "      id_client  flag_conv right_symbol\n",
       "2652    1358470          1            0\n",
       "1160    1350973          0            3\n",
       "126     1345943          0            3\n",
       "2373    1357056          0            6\n",
       "1392    1352117          1            7\n",
       "653     1348498          1            8\n",
       "216     1346388          0            8\n",
       "2720    1358818          0            8\n",
       "1942    1354859          1            9\n",
       "2491    1357629          1            9"
      ]
     },
     "execution_count": 3,
     "metadata": {},
     "output_type": "execute_result"
    }
   ],
   "source": [
    "data['right_symbol'] = data['id_client'].astype(str).str[-1]\n",
    "data.sample(10).sort_values(by='right_symbol')\n",
    "# Визуально зависимость не очевидна... Попробую сгрупировать"
   ]
  },
  {
   "cell_type": "code",
   "execution_count": 4,
   "id": "f6f1e03d",
   "metadata": {},
   "outputs": [
    {
     "data": {
      "text/html": [
       "<div>\n",
       "<style scoped>\n",
       "    .dataframe tbody tr th:only-of-type {\n",
       "        vertical-align: middle;\n",
       "    }\n",
       "\n",
       "    .dataframe tbody tr th {\n",
       "        vertical-align: top;\n",
       "    }\n",
       "\n",
       "    .dataframe thead th {\n",
       "        text-align: right;\n",
       "    }\n",
       "</style>\n",
       "<table border=\"1\" class=\"dataframe\">\n",
       "  <thead>\n",
       "    <tr style=\"text-align: right;\">\n",
       "      <th></th>\n",
       "      <th>right_symbol</th>\n",
       "      <th>mean_conv</th>\n",
       "      <th>cnt_conv</th>\n",
       "    </tr>\n",
       "  </thead>\n",
       "  <tbody>\n",
       "    <tr>\n",
       "      <th>0</th>\n",
       "      <td>0</td>\n",
       "      <td>0.996835</td>\n",
       "      <td>316</td>\n",
       "    </tr>\n",
       "    <tr>\n",
       "      <th>1</th>\n",
       "      <td>1</td>\n",
       "      <td>0.603715</td>\n",
       "      <td>323</td>\n",
       "    </tr>\n",
       "    <tr>\n",
       "      <th>2</th>\n",
       "      <td>2</td>\n",
       "      <td>0.543689</td>\n",
       "      <td>309</td>\n",
       "    </tr>\n",
       "    <tr>\n",
       "      <th>3</th>\n",
       "      <td>3</td>\n",
       "      <td>0.543624</td>\n",
       "      <td>298</td>\n",
       "    </tr>\n",
       "    <tr>\n",
       "      <th>4</th>\n",
       "      <td>4</td>\n",
       "      <td>0.528662</td>\n",
       "      <td>314</td>\n",
       "    </tr>\n",
       "    <tr>\n",
       "      <th>5</th>\n",
       "      <td>5</td>\n",
       "      <td>0.545732</td>\n",
       "      <td>328</td>\n",
       "    </tr>\n",
       "    <tr>\n",
       "      <th>6</th>\n",
       "      <td>6</td>\n",
       "      <td>0.529412</td>\n",
       "      <td>340</td>\n",
       "    </tr>\n",
       "    <tr>\n",
       "      <th>7</th>\n",
       "      <td>7</td>\n",
       "      <td>0.632258</td>\n",
       "      <td>310</td>\n",
       "    </tr>\n",
       "    <tr>\n",
       "      <th>8</th>\n",
       "      <td>8</td>\n",
       "      <td>0.563518</td>\n",
       "      <td>307</td>\n",
       "    </tr>\n",
       "    <tr>\n",
       "      <th>9</th>\n",
       "      <td>9</td>\n",
       "      <td>0.632716</td>\n",
       "      <td>324</td>\n",
       "    </tr>\n",
       "  </tbody>\n",
       "</table>\n",
       "</div>"
      ],
      "text/plain": [
       "  right_symbol  mean_conv  cnt_conv\n",
       "0            0   0.996835       316\n",
       "1            1   0.603715       323\n",
       "2            2   0.543689       309\n",
       "3            3   0.543624       298\n",
       "4            4   0.528662       314\n",
       "5            5   0.545732       328\n",
       "6            6   0.529412       340\n",
       "7            7   0.632258       310\n",
       "8            8   0.563518       307\n",
       "9            9   0.632716       324"
      ]
     },
     "execution_count": 4,
     "metadata": {},
     "output_type": "execute_result"
    }
   ],
   "source": [
    "data_gb = data.groupby('right_symbol').agg(mean_conv = ('flag_conv', 'mean'),\n",
    "                                           cnt_conv = ('flag_conv', 'count')).reset_index()\n",
    "data_gb"
   ]
  },
  {
   "cell_type": "code",
   "execution_count": 5,
   "id": "ccdefba6",
   "metadata": {},
   "outputs": [
    {
     "data": {
      "image/png": "[encoded data removed]",
      "text/plain": [
       "<Figure size 1500x500 with 2 Axes>"
      ]
     },
     "metadata": {},
     "output_type": "display_data"
    }
   ],
   "source": [
    "fig, ax = plt.subplots(nrows=1, ncols=2, figsize=(15, 5))\n",
    "\n",
    "sns.histplot(ax=ax[0], data=data_gb, x='right_symbol', y='mean_conv')\n",
    "sns.histplot(ax=ax[1], data=data_gb, x='right_symbol', y='cnt_conv')\n",
    "plt.show()\n",
    "\n",
    "# По гистограммам очевидно что клиенты, \n",
    "# id которых оканчиваются на 0, почти всегда (с вероятностью в 0.996) воспользуются предложением."
   ]
  },
  {
   "cell_type": "markdown",
   "id": "13cc0242",
   "metadata": {},
   "source": [
    "***2. Сделайте разбиение клиентов по группам (контроль и тест) в зависимости от остатка деления идентификатора на 10. Рассчитайте результаты АА-теста. Наблюдается ли разница?***\n",
    "\n",
    "Из гисторграммы видно что для разбиения на группы (тестовую и контрольную) придется хешировать id."
   ]
  },
  {
   "cell_type": "code",
   "execution_count": 6,
   "id": "28be871a",
   "metadata": {},
   "outputs": [
    {
     "data": {
      "text/html": [
       "<div>\n",
       "<style scoped>\n",
       "    .dataframe tbody tr th:only-of-type {\n",
       "        vertical-align: middle;\n",
       "    }\n",
       "\n",
       "    .dataframe tbody tr th {\n",
       "        vertical-align: top;\n",
       "    }\n",
       "\n",
       "    .dataframe thead th {\n",
       "        text-align: right;\n",
       "    }\n",
       "</style>\n",
       "<table border=\"1\" class=\"dataframe\">\n",
       "  <thead>\n",
       "    <tr style=\"text-align: right;\">\n",
       "      <th></th>\n",
       "      <th>id_client</th>\n",
       "      <th>flag_conv</th>\n",
       "      <th>right_symbol</th>\n",
       "      <th>hash_id</th>\n",
       "      <th>salz_id</th>\n",
       "    </tr>\n",
       "  </thead>\n",
       "  <tbody>\n",
       "    <tr>\n",
       "      <th>0</th>\n",
       "      <td>1345321</td>\n",
       "      <td>0</td>\n",
       "      <td>1</td>\n",
       "      <td>406920652</td>\n",
       "      <td>282843958</td>\n",
       "    </tr>\n",
       "    <tr>\n",
       "      <th>1</th>\n",
       "      <td>1345322</td>\n",
       "      <td>0</td>\n",
       "      <td>2</td>\n",
       "      <td>2168999030</td>\n",
       "      <td>693561331</td>\n",
       "    </tr>\n",
       "    <tr>\n",
       "      <th>2</th>\n",
       "      <td>1345330</td>\n",
       "      <td>0</td>\n",
       "      <td>0</td>\n",
       "      <td>1985813531</td>\n",
       "      <td>3898778699</td>\n",
       "    </tr>\n",
       "    <tr>\n",
       "      <th>3</th>\n",
       "      <td>1345338</td>\n",
       "      <td>1</td>\n",
       "      <td>8</td>\n",
       "      <td>2022085673</td>\n",
       "      <td>1404700243</td>\n",
       "    </tr>\n",
       "    <tr>\n",
       "      <th>4</th>\n",
       "      <td>1345342</td>\n",
       "      <td>0</td>\n",
       "      <td>2</td>\n",
       "      <td>3608341488</td>\n",
       "      <td>608737204</td>\n",
       "    </tr>\n",
       "  </tbody>\n",
       "</table>\n",
       "</div>"
      ],
      "text/plain": [
       "   id_client  flag_conv right_symbol     hash_id     salz_id\n",
       "0    1345321          0            1   406920652   282843958\n",
       "1    1345322          0            2  2168999030   693561331\n",
       "2    1345330          0            0  1985813531  3898778699\n",
       "3    1345338          1            8  2022085673  1404700243\n",
       "4    1345342          0            2  3608341488   608737204"
      ]
     },
     "execution_count": 6,
     "metadata": {},
     "output_type": "execute_result"
    }
   ],
   "source": [
    "# Наверно можно было сделать проще.....!\n",
    "data['hash_id'] = data['id_client'].map(lambda x: crc32(bytes(str(x), 'utf-8')))\n",
    "data['salz_id'] = data['id_client'].map(lambda x: crc32(bytes(str(x) + 'соль', 'utf-8')))\n",
    "data.head()"
   ]
  },
  {
   "cell_type": "code",
   "execution_count": 7,
   "id": "7a19ff18",
   "metadata": {},
   "outputs": [],
   "source": [
    "# функцию взял из своего решения прошлого ДЗ (в задании рекомендовано)\n",
    "def get_result_ABtest(test_df: pd.DataFrame, control_df: pd.DataFrame) -> None:\n",
    "    '''Выводит на печать результат А/В тестирования.'''\n",
    "    s, p = stats.ttest_ind(control_df, test_df)\n",
    "    print('\\tp_value', round(p, 4))\n",
    "    if (p > 0.05):\n",
    "        print('+       Выборки не имеют существенной разницы!')\n",
    "    else:\n",
    "        print('-       РЕЗУЛЬТАТЫ ТЕСТИРОВАНИЯ:')\n",
    "        if control_df.mean() > test_df.mean():\n",
    "            diff = ((control_df.mean() - test_df.mean()) / control_df.mean()) * 100\n",
    "            print(f'\\tСредняя выборки тестовой группы к контрольной УПАЛА на {round(diff, 2)}%!')\n",
    "        elif control_df.mean() < test_df.mean():\n",
    "            diff = ((test_df.mean() - control_df.mean()) / control_df.mean()) * 100\n",
    "            print(f'\\tСредняя выборки тестовой группы к контрольной ВЫРОСЛА на {round(diff, 2)}%!')\n",
    "    print()"
   ]
  },
  {
   "cell_type": "markdown",
   "id": "3cd27a1b",
   "metadata": {},
   "source": [
    "Ищу способ наиболее эффективного разделения выборок с равным распределением"
   ]
  },
  {
   "cell_type": "code",
   "execution_count": 8,
   "id": "b73ec12a",
   "metadata": {},
   "outputs": [
    {
     "name": "stdout",
     "output_type": "stream",
     "text": [
      "Разбиение клиентов по группам в зависимости от остатка деления идентификатора на 10.\n",
      "\n",
      "_ _ _ _ _ _ _ _ _ _ _ _ _ _ _ _ _ _ _ _ _ _ _ _ _ _ _ _ _ _ _ _ _ _ _ _ _ _ _ _ _ _ _ _ _ _ _ _ _ _  \n",
      "Группы разделенные по последней цифре id_cleent\n",
      "\tp_value 0.0002\n",
      "-       РЕЗУЛЬТАТЫ ТЕСТИРОВАНИЯ:\n",
      "\tСредняя выборки тестовой группы по сравнению с контрольной ВЫРОСЛА на 11.21%!\n",
      "\n",
      "_ _ _ _ _ _ _ _ _ _ _ _ _ _ _ _ _ _ _ _ _ _ _ _ _ _ _ _ _ _ _ _ _ _ _ _ _ _ _ _ _ _ _ _ _ _ _ _ _ _  \n",
      "Группы разделенные по последней цифре хеш-значения id_cleent\n",
      "\tp_value 0.0024\n",
      "-       РЕЗУЛЬТАТЫ ТЕСТИРОВАНИЯ:\n",
      "\tСредняя выборки тестовой группы по сравнению с контрольной ВЫРОСЛА на 8.98%!\n",
      "\n",
      "_ _ _ _ _ _ _ _ _ _ _ _ _ _ _ _ _ _ _ _ _ _ _ _ _ _ _ _ _ _ _ _ _ _ _ _ _ _ _ _ _ _ _ _ _ _ _ _ _ _  \n",
      "Группы разделенные по последней цифре \"подсоленного\" хеш-значения id_cleent\n",
      "\tp_value 0.1816\n",
      "+       Выборки не имеют существенной разницы!\n",
      "\tИзменения над тестовой группой не повлеяли на качественные показатели\n",
      "\tпо отношению к контрольной группуе...\n",
      "\n"
     ]
    }
   ],
   "source": [
    "print('Разбиение клиентов по группам в зависимости от остатка деления идентификатора на 10.\\n')\n",
    "# -------------------------------------------------- Разделим на выборки по последней цифре id_client\n",
    "print('_ ' * 50, '\\nГруппы разделенные по последней цифре id_cleent')\n",
    "df_testAA = data[['id_client', 'flag_conv']]\n",
    "\n",
    "part_50 = df_testAA[df_testAA['id_client'] % 10 < 5]\n",
    "rest_part_50 = df_testAA.drop(part_50.index)\n",
    "\n",
    "get_result_ABtest(part_50['flag_conv'], rest_part_50['flag_conv']) \n",
    "\n",
    "# -------------------------------------------------- Разделим на выборки по последней цифре хешированного значения id_client\n",
    "print('_ ' * 50, '\\nГруппы разделенные по последней цифре хеш-значения id_cleent')\n",
    "df_testAA = data[['hash_id', 'flag_conv']]\n",
    "\n",
    "part_50 = df_testAA[df_testAA['hash_id'] % 10 < 5]\n",
    "rest_part_50 = df_testAA.drop(part_50.index)\n",
    "\n",
    "get_result_ABtest(part_50['flag_conv'], rest_part_50['flag_conv'])\n",
    "\n",
    "# -------------------------------------------------- Разделим на выборки по последней цифре хешир.значения id_client (подсолено)\n",
    "print('_ ' * 50, '\\nГруппы разделенные по последней цифре \"подсоленного\" хеш-значения id_cleent')\n",
    "df_testAA = data[['salz_id', 'flag_conv']]\n",
    "\n",
    "part_50 = df_testAA[df_testAA['salz_id'] % 10 < 5]\n",
    "rest_part_50 = df_testAA.drop(part_50.index)\n",
    "\n",
    "get_result_ABtest(part_50['flag_conv'], rest_part_50['flag_conv'])\n",
    " "
   ]
  },
  {
   "cell_type": "markdown",
   "id": "b295d790",
   "metadata": {},
   "source": [
    "**Вывод:**  \n",
    "для правильного разделения выборки на две подгруппы в зависимости от остатка деления идентификатора на 10, можно использовать через \"подсоленое\" хеширование идентефикаторов (иной подход не дал \"равнораспределенности\" группы)"
   ]
  },
  {
   "cell_type": "markdown",
   "id": "f5396f16",
   "metadata": {},
   "source": [
    "***3. Сделайте разбиение клиентов по группам (контроль и тест) в зависимости от четности идентификатора (остатка от деления идентификатора на 2). Рассчитайте результаты АА-теста. Наблюдается ли разница?***"
   ]
  },
  {
   "cell_type": "code",
   "execution_count": 9,
   "id": "48bcd55d",
   "metadata": {},
   "outputs": [
    {
     "name": "stdout",
     "output_type": "stream",
     "text": [
      "Разбиение клиентов по группам в зависимости от четности идентификатора.\n",
      "\n",
      "_ _ _ _ _ _ _ _ _ _ _ _ _ _ _ _ _ _ _ _ _ _ _ _ _ _ _ _ _ _ _ _ _ _ _ _ _ _ _ _ _ _ _ _ _ _ _ _ _ _  \n",
      "Группы разделенные по последней цифре id_cleent\n",
      "\tp_value 0.0213\n",
      "-       РЕЗУЛЬТАТЫ ТЕСТИРОВАНИЯ:\n",
      "\tСредняя выборки тестовой группы по сравнению с контрольной ВЫРОСЛА на 6.73%!\n",
      "\n",
      "_ _ _ _ _ _ _ _ _ _ _ _ _ _ _ _ _ _ _ _ _ _ _ _ _ _ _ _ _ _ _ _ _ _ _ _ _ _ _ _ _ _ _ _ _ _ _ _ _ _  \n",
      "Группы разделенные по последней цифре хеш-значения id_cleent\n",
      "\tp_value 0.4836\n",
      "+       Выборки не имеют существенной разницы!\n",
      "\tИзменения над тестовой группой не повлеяли на качественные показатели\n",
      "\tпо отношению к контрольной группуе...\n",
      "\n",
      "_ _ _ _ _ _ _ _ _ _ _ _ _ _ _ _ _ _ _ _ _ _ _ _ _ _ _ _ _ _ _ _ _ _ _ _ _ _ _ _ _ _ _ _ _ _ _ _ _ _  \n",
      "Группы разделенные по последней цифре \"подсоленного\" хеш-значения id_cleent\n",
      "\tp_value 0.6548\n",
      "+       Выборки не имеют существенной разницы!\n",
      "\tИзменения над тестовой группой не повлеяли на качественные показатели\n",
      "\tпо отношению к контрольной группуе...\n",
      "\n"
     ]
    }
   ],
   "source": [
    "print('Разбиение клиентов по группам в зависимости от четности идентификатора.\\n')\n",
    "# -------------------------------------------------- Разделим на выборки по последней цифре id_client\n",
    "print('_ ' * 50, '\\nГруппы разделенные по последней цифре id_cleent')\n",
    "df_testAA = data[['id_client', 'flag_conv']]\n",
    "\n",
    "part_50 = df_testAA[df_testAA['id_client'] % 2 == 0]\n",
    "rest_part_50 = df_testAA.drop(part_50.index)\n",
    "\n",
    "get_result_ABtest(part_50['flag_conv'], rest_part_50['flag_conv']) \n",
    "\n",
    "# -------------------------------------------------- Разделим на выборки по последней цифре хешированного значения id_client\n",
    "print('_ ' * 50, '\\nГруппы разделенные по последней цифре хеш-значения id_cleent')\n",
    "df_testAA = data[['hash_id', 'flag_conv']]\n",
    "\n",
    "part_50 = df_testAA[df_testAA['hash_id'] % 2 == 0]\n",
    "rest_part_50 = df_testAA.drop(part_50.index)\n",
    "\n",
    "get_result_ABtest(part_50['flag_conv'], rest_part_50['flag_conv'])\n",
    "\n",
    "# -------------------------------------------------- Разделим на выборки по последней цифре хешир.значения id_client (подсолено)\n",
    "print('_ ' * 50, '\\nГруппы разделенные по последней цифре \"подсоленного\" хеш-значения id_cleent')\n",
    "df_testAA = data[['salz_id', 'flag_conv']]\n",
    "\n",
    "part_50 = df_testAA[df_testAA['salz_id'] % 2 == 0]\n",
    "rest_part_50 = df_testAA.drop(part_50.index)\n",
    "\n",
    "get_result_ABtest(part_50['flag_conv'], rest_part_50['flag_conv'])\n"
   ]
  },
  {
   "cell_type": "markdown",
   "id": "23025906",
   "metadata": {},
   "source": [
    "***Вывод:***  \n",
    "+ для правильного разделения выборки на две подгруппы в зависимости от четности, можно использоватькак простое так и через \"подсоленое\" хеширование идентефикаторов (иной подход не дал \"равнораспределенности\" группы)\n",
    "- простое разделение на группы в зависимости от четности дало отрицательный результат (группы не равнораспределенны)"
   ]
  },
  {
   "cell_type": "markdown",
   "id": "36235973",
   "metadata": {},
   "source": [
    "***4. Сделайте разбиение клиентов по группам (контроль и тест) с помощью функции sample из библиотеки pandas. По аналогии с расчетом из лекции сделайте 1000 разбиений с помощью sample и рассчитайте статистическую значимость разниц. В скольких процентах случаев наблюдается статистически значимая разница между контролем и тестом в АА-тесте?***\n",
    "\n",
    "**Задача со звездочкой**: проверьте, что это доля (случаев, в которых разница между группами есть) равна 5% на 95%-уровне значимости."
   ]
  },
  {
   "cell_type": "code",
   "execution_count": 10,
   "id": "59685775",
   "metadata": {},
   "outputs": [
    {
     "name": "stdout",
     "output_type": "stream",
     "text": [
      "_ _ _ _ _ _ _ _ _ _ _ _ _ _ _ _ _ _ _ _ _ _ _ _ _ _ _ _ _ _ _ _ _ _ _ _ _ _ _ _ _ _ _ _ _ _ _ _ _ _  \n",
      "Группы разделенные встроенным методом .sample(frac=0.5)\n",
      "\tp_value 0.2206\n",
      "+       Выборки не имеют существенной разницы!\n",
      "\tИзменения над тестовой группой не повлеяли на качественные показатели\n",
      "\tпо отношению к контрольной группуе...\n",
      "\n"
     ]
    }
   ],
   "source": [
    "# -------------------------------------------------- Разделим на выборки случайным \"семплированием\" на равные доли\n",
    "print('_ ' * 50, '\\nГруппы разделенные встроенным методом .sample(frac=0.5)')\n",
    "df_testAA = data[['id_client', 'flag_conv']]\n",
    "\n",
    "part_50 = df_testAA.sample(frac = 0.5)\n",
    "rest_part_50 = df_testAA.drop(part_50.index)\n",
    "\n",
    "get_result_ABtest(part_50['flag_conv'], rest_part_50['flag_conv']) "
   ]
  },
  {
   "cell_type": "markdown",
   "id": "829d3420",
   "metadata": {},
   "source": [
    "***Проверим повторяемость результата на 1000 попыток***"
   ]
  },
  {
   "cell_type": "code",
   "execution_count": 11,
   "id": "37a3b776",
   "metadata": {},
   "outputs": [],
   "source": [
    "df_testAA = data[['id_client', 'flag_conv']]\n",
    "df_res = pd.DataFrame(columns=['iter','stat_crit','p_value'])\n",
    "\n",
    "for i in range(1,1000):\n",
    "    part_50 = df_testAA.sample(frac = 0.5)\n",
    "    rest_part_50 = df_testAA.drop(part_50.index)\n",
    "\n",
    "    s_a, p_a = stats.ttest_ind(part_50['flag_conv'], rest_part_50['flag_conv'])\n",
    "    \n",
    "    df_res = df_res._append({'iter':i,'stat_crit':s_a,'p_value':p_a}, ignore_index = True) "
   ]
  },
  {
   "cell_type": "code",
   "execution_count": 12,
   "id": "02af73ce",
   "metadata": {},
   "outputs": [
    {
     "name": "stdout",
     "output_type": "stream",
     "text": [
      "Проверяю, что доля случаев, в которых разница между группами есть, равна 5% на 95%-уровне значимости:\n"
     ]
    },
    {
     "data": {
      "text/plain": [
       "iter         0.048048\n",
       "stat_crit    0.048048\n",
       "p_value      0.048048\n",
       "dtype: float64"
      ]
     },
     "execution_count": 12,
     "metadata": {},
     "output_type": "execute_result"
    }
   ],
   "source": [
    "print('Проверяю, что доля случаев, в которых разница между группами есть, равна 5% на 95%-уровне значимости:')\n",
    "df_res[df_res['p_value']<=0.05].count() /df_res.count()"
   ]
  },
  {
   "cell_type": "markdown",
   "id": "8c27b839",
   "metadata": {},
   "source": [
    "***Вывод:***  \n",
    "по результатам 1000 тестов, около 5% попыток не удовлетворили условию - считаю что ТЕСТ ПРОЙДЕН"
   ]
  },
  {
   "cell_type": "markdown",
   "id": "3b169e66",
   "metadata": {},
   "source": [
    "***5. Рассчитайте, сколько наблюдений потребуется для проведения АБ Теста, при условии что MDE = 2 процентных пункта (предположите, что альфа и бета установлены на дефолтном уровне и что дисперсия выборки не изменится от воздействия В).***\n"
   ]
  },
  {
   "cell_type": "markdown",
   "id": "8d5120e9",
   "metadata": {},
   "source": [
    "Количество наблюдений посчитаем по упращенной формуле:\n",
    "\n",
    "\\begin{align}\n",
    "n  =  \\frac{16 \\dot \\sigma^2}{MDE^2}, где:\n",
    "\\end{align}\n",
    "\n",
    "$n$ - количество наблюдений,  \n",
    "$\\sigma^2$ - дисперсия,  \n",
    "$MDE$ - минимальная обнаруживаемая разница"
   ]
  },
  {
   "cell_type": "code",
   "execution_count": 13,
   "id": "903b6211",
   "metadata": {},
   "outputs": [
    {
     "name": "stdout",
     "output_type": "stream",
     "text": [
      "Расчитанное количество необходимых наблюдений для А/В теста = 9499\n"
     ]
    }
   ],
   "source": [
    "mde = 0.02\n",
    "var = np.var(data['flag_conv'])\n",
    "nms = (16 * var) / (mde**2)\n",
    "\n",
    "print(f'Расчитанное количество необходимых наблюдений для А/В теста = {round(nms)}')"
   ]
  }
 ],
 "metadata": {
  "kernelspec": {
   "display_name": "Python 3 (ipykernel)",
   "language": "python",
   "name": "python3"
  },
  "language_info": {
   "codemirror_mode": {
    "name": "ipython",
    "version": 3
   },
   "file_extension": ".py",
   "mimetype": "text/x-python",
   "name": "python",
   "nbconvert_exporter": "python",
   "pygments_lexer": "ipython3",
   "version": "3.11.5"
  }
 },
 "nbformat": 4,
 "nbformat_minor": 5
}
